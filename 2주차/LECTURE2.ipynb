{
 "cells": [
  {
   "cell_type": "code",
   "execution_count": 1,
   "metadata": {},
   "outputs": [],
   "source": [
    "import numpy as np"
   ]
  },
  {
   "cell_type": "code",
   "execution_count": 2,
   "metadata": {},
   "outputs": [
    {
     "name": "stdout",
     "output_type": "stream",
     "text": [
      "[1, 2, 3, 4, 5]\n",
      "[1 2 3 4 5]\n",
      "[1 3 5]\n"
     ]
    }
   ],
   "source": [
    "a = [1, 2, 3, 4, 5]\n",
    "b = np.array(a)\n",
    "c = np.array([1,3,5])\n",
    "print(a)\n",
    "print(b)\n",
    "print(c)"
   ]
  },
  {
   "cell_type": "code",
   "execution_count": 6,
   "metadata": {},
   "outputs": [
    {
     "name": "stdout",
     "output_type": "stream",
     "text": [
      "[99  2  3  4  5]\n",
      "[99  2  3  4  5]\n",
      "[1 2 3 4 5]\n",
      "3\n"
     ]
    }
   ],
   "source": [
    "# list tuple 과 동일, 값을 변경하면 원본도 변경됨\n",
    "\n",
    "a = np.array([1, 2, 3, 4, 5])\n",
    "b = a # a가 바뀌면 b도 바뀌는 연결상태\n",
    "c = a.copy() # 값이 복사됨, 독립적임\n",
    "b[0] = 99\n",
    "print(a)\n",
    "print(b)\n",
    "print(c)\n",
    "print(b[2])"
   ]
  },
  {
   "cell_type": "code",
   "execution_count": 8,
   "metadata": {},
   "outputs": [
    {
     "name": "stdout",
     "output_type": "stream",
     "text": [
      "[1 2 3]\n"
     ]
    }
   ],
   "source": [
    "a = np.array([1.0,2.0,3.0], dtype= int)\n",
    "# float64, float 32 : 소수점 자릿수 지정\n",
    "# floating point\n"
   ]
  },
  {
   "cell_type": "code",
   "execution_count": 12,
   "metadata": {},
   "outputs": [
    {
     "name": "stdout",
     "output_type": "stream",
     "text": [
      "[1. 2. 3.]\n",
      "float64\n"
     ]
    }
   ],
   "source": [
    "a = np.array([1.00,2.00,3.00], dtype= float)\n",
    "print(a)\n",
    "print(a.dtype)"
   ]
  },
  {
   "cell_type": "code",
   "execution_count": 16,
   "metadata": {},
   "outputs": [
    {
     "name": "stdout",
     "output_type": "stream",
     "text": [
      "[[1 2 3]\n",
      " [4 5 6]\n",
      " [7 8 9]]\n",
      "2\n",
      "(3, 3)\n"
     ]
    }
   ],
   "source": [
    "a = np.array([[1,2,3],[4,5,6],[7,8,9]])\n",
    "print(a)\n",
    "# z axis y axis x axis\n",
    "print(a.ndim)\n",
    "print(a.shape)"
   ]
  },
  {
   "cell_type": "code",
   "execution_count": 18,
   "metadata": {},
   "outputs": [
    {
     "name": "stdout",
     "output_type": "stream",
     "text": [
      "[[1 1]\n",
      " [1 1]]\n",
      "[1, 2, 3, 4, 5]\n",
      "[1 1 1 1 1]\n"
     ]
    }
   ],
   "source": [
    "a = np.ones((2,2), dtype = int)\n",
    "print(a)\n",
    "b = [1,2,3,4,5]\n",
    "c = np.ones_like(b, dtype= int)\n",
    "print(b)\n",
    "print(c)"
   ]
  },
  {
   "cell_type": "code",
   "execution_count": 20,
   "metadata": {},
   "outputs": [
    {
     "name": "stdout",
     "output_type": "stream",
     "text": [
      "10\n",
      "1\n",
      "[1 1 1 1 1 1 1 1 1 1]\n"
     ]
    }
   ],
   "source": [
    "a = [1,2,3,4,5,6,7,8,9,10]\n",
    "\n",
    "b = a.copy()\n",
    "c = np.ones_like\n",
    "(a, dtype = int)\n",
    "\n",
    "print(np.max(b))\n",
    "print(np.min(b))\n",
    "print(c)\n"
   ]
  },
  {
   "cell_type": "code",
   "execution_count": 1,
   "metadata": {},
   "outputs": [],
   "source": [
    "import numpy as np\n",
    "import matplotlib"
   ]
  },
  {
   "cell_type": "code",
   "execution_count": 8,
   "metadata": {},
   "outputs": [
    {
     "name": "stdout",
     "output_type": "stream",
     "text": [
      "(array([ 0. ,  2.5,  5. ,  7.5, 10. ]), 2.5)\n",
      "[0. 2. 4. 6. 8.]\n"
     ]
    }
   ],
   "source": [
    "a= np.linspace(0,10, num = 5, endpoint = True, retstep = True)\n",
    "print(a)\n",
    "b= np.linspace(0,10, num = 5, endpoint = False, retstep = False)\n",
    "print(b)"
   ]
  },
  {
   "cell_type": "code",
   "execution_count": 9,
   "metadata": {},
   "outputs": [
    {
     "name": "stdout",
     "output_type": "stream",
     "text": [
      "[0.   0.25 0.5  0.75 1.  ]\n"
     ]
    },
    {
     "data": {
      "text/plain": [
       "<function matplotlib.pyplot.show(close=None, block=None)>"
      ]
     },
     "execution_count": 9,
     "metadata": {},
     "output_type": "execute_result"
    },
    {
     "data": {
      "image/png": "[encoded data removed]",
      "text/plain": [
       "<Figure size 432x288 with 1 Axes>"
      ]
     },
     "metadata": {
      "needs_background": "light"
     },
     "output_type": "display_data"
    }
   ],
   "source": [
    "import matplotlib.pyplot as plt \n",
    "a = np.linspace(0,1,5)\n",
    "print(a)\n",
    "plt.plot(a,'o')\n",
    "plt.show"
   ]
  },
  {
   "cell_type": "code",
   "execution_count": 13,
   "metadata": {},
   "outputs": [
    {
     "name": "stdout",
     "output_type": "stream",
     "text": [
      "[0 3 6 9]\n",
      "[0.  1.5 3.  4.5 6.  7.5 9. ]\n"
     ]
    }
   ],
   "source": [
    "a = np.arange(0,10,step = 3)\n",
    "b = np.arange(0,10,step = 1.5)\n",
    "print(a)\n",
    "print(b)\n"
   ]
  },
  {
   "cell_type": "code",
   "execution_count": 14,
   "metadata": {},
   "outputs": [
    {
     "data": {
      "text/plain": [
       "<function matplotlib.pyplot.show(close=None, block=None)>"
      ]
     },
     "execution_count": 14,
     "metadata": {},
     "output_type": "execute_result"
    },
    {
     "data": {
      "image/png": "[encoded data removed]",
      "text/plain": [
       "<Figure size 432x288 with 1 Axes>"
      ]
     },
     "metadata": {
      "needs_background": "light"
     },
     "output_type": "display_data"
    }
   ],
   "source": [
    "plt.plot(a,'o')\n",
    "plt.plot(b,'o')\n",
    "plt.show"
   ]
  },
  {
   "cell_type": "code",
   "execution_count": 16,
   "metadata": {},
   "outputs": [
    {
     "name": "stdout",
     "output_type": "stream",
     "text": [
      "[1.00000000e+00 5.65685425e+00 3.20000000e+01 1.81019336e+02\n",
      " 1.02400000e+03]\n"
     ]
    }
   ],
   "source": [
    "c = np.logspace(0,10,num=5,endpoint=True, base=2)\n",
    "print(c)"
   ]
  },
  {
   "cell_type": "code",
   "execution_count": 27,
   "metadata": {},
   "outputs": [
    {
     "name": "stdout",
     "output_type": "stream",
     "text": [
      "[ 10000.  40000.  70000. 100000.]\n",
      "[ 10000.          21544.34690032  46415.88833613 100000.        ]\n"
     ]
    },
    {
     "data": {
      "text/plain": [
       "<function matplotlib.pyplot.show(close=None, block=None)>"
      ]
     },
     "execution_count": 27,
     "metadata": {},
     "output_type": "execute_result"
    },
    {
     "data": {
      "image/png": "[encoded data removed]",
      "text/plain": [
       "<Figure size 432x288 with 1 Axes>"
      ]
     },
     "metadata": {
      "needs_background": "light"
     },
     "output_type": "display_data"
    }
   ],
   "source": [
    "# 연봉 그래프 데이터를 생성하는 기능을 만드는 방법\n",
    "\n",
    "age_30 = 10000\n",
    "age_60 = 100000\n",
    "\n",
    "a = np.linspace(age_30,age_60,num = 4, endpoint = True, retstep = False)\n",
    "b = np.logspace(np.log10(age_30),np.log10(age_60),num = 4, endpoint = True)\n",
    "\n",
    "print(a)\n",
    "print(b)\n",
    "\n",
    "plt.plot(b,'o')\n",
    "plt.show"
   ]
  },
  {
   "cell_type": "code",
   "execution_count": 33,
   "metadata": {},
   "outputs": [
    {
     "name": "stdout",
     "output_type": "stream",
     "text": [
      "[[ 0.43565702  0.80324301  1.8375043 ]\n",
      " [ 0.34064395 -0.3765306  -1.01099518]]\n",
      "(2, 3)\n"
     ]
    },
    {
     "data": {
      "text/plain": [
       "<function matplotlib.pyplot.show(close=None, block=None)>"
      ]
     },
     "execution_count": 33,
     "metadata": {},
     "output_type": "execute_result"
    },
    {
     "data": {
      "image/png": "[encoded data removed]",
      "text/plain": [
       "<Figure size 432x288 with 1 Axes>"
      ]
     },
     "metadata": {
      "needs_background": "light"
     },
     "output_type": "display_data"
    }
   ],
   "source": [
    "mean = 0\n",
    "std = 1\n",
    "a=np.random.normal(mean,std,(2,3))\n",
    "print(a)\n",
    "print(a.shape)\n",
    "\n",
    "data = np.random.normal(0,1,1000)\n",
    "plt.hist(data, bins = 100)\n",
    "plt.show"
   ]
  },
  {
   "cell_type": "code",
   "execution_count": 37,
   "metadata": {},
   "outputs": [
    {
     "name": "stdout",
     "output_type": "stream",
     "text": [
      "[[6 7 7 7]\n",
      " [6 5 6 9]]\n"
     ]
    }
   ],
   "source": [
    "import numpy as np\n",
    "a = np.random.randint(5,10,size=(2,4))\n",
    "print(a)"
   ]
  },
  {
   "cell_type": "code",
   "execution_count": 38,
   "metadata": {},
   "outputs": [
    {
     "data": {
      "text/plain": [
       "array([41,  9, 28, 42, 10,  1])"
      ]
     },
     "execution_count": 38,
     "metadata": {},
     "output_type": "execute_result"
    }
   ],
   "source": [
    "def generate_lotto_nums():\n",
    "    return np.random.choice(np.arange(1,46), size = 6, replace = False)\n",
    "generate_lotto_nums()"
   ]
  },
  {
   "cell_type": "code",
   "execution_count": 44,
   "metadata": {},
   "outputs": [
    {
     "name": "stdout",
     "output_type": "stream",
     "text": [
      "복권번호를 입력하시오(0~99):  7\n",
      "당첨번호는 [12 41] 입니다.\n"
     ]
    },
    {
     "ename": "ValueError",
     "evalue": "The truth value of an array with more than one element is ambiguous. Use a.any() or a.all()",
     "output_type": "error",
     "traceback": [
      "\u001b[1;31m---------------------------------------------------------------------------\u001b[0m",
      "\u001b[1;31mValueError\u001b[0m                                Traceback (most recent call last)",
      "\u001b[1;32m<ipython-input-44-76c78bc106a4>\u001b[0m in \u001b[0;36m<module>\u001b[1;34m\u001b[0m\n\u001b[0;32m     18\u001b[0m         \u001b[0mprint\u001b[0m\u001b[1;33m(\u001b[0m\u001b[1;34m\"상금은 없습니다.\"\u001b[0m\u001b[1;33m)\u001b[0m\u001b[1;33m\u001b[0m\u001b[1;33m\u001b[0m\u001b[0m\n\u001b[0;32m     19\u001b[0m \u001b[1;33m\u001b[0m\u001b[0m\n\u001b[1;32m---> 20\u001b[1;33m \u001b[0mrandom\u001b[0m\u001b[1;33m(\u001b[0m\u001b[1;33m)\u001b[0m\u001b[1;33m\u001b[0m\u001b[1;33m\u001b[0m\u001b[0m\n\u001b[0m",
      "\u001b[1;32m<ipython-input-44-76c78bc106a4>\u001b[0m in \u001b[0;36mrandom\u001b[1;34m()\u001b[0m\n\u001b[0;32m      5\u001b[0m \u001b[1;33m\u001b[0m\u001b[0m\n\u001b[0;32m      6\u001b[0m \u001b[1;32mdef\u001b[0m \u001b[0mrandom\u001b[0m\u001b[1;33m(\u001b[0m\u001b[1;33m)\u001b[0m\u001b[1;33m:\u001b[0m\u001b[1;33m\u001b[0m\u001b[1;33m\u001b[0m\u001b[0m\n\u001b[1;32m----> 7\u001b[1;33m     \u001b[1;32mif\u001b[0m \u001b[1;33m(\u001b[0m\u001b[0mlotto\u001b[0m \u001b[1;33m==\u001b[0m \u001b[0myour\u001b[0m\u001b[1;33m)\u001b[0m\u001b[1;33m:\u001b[0m\u001b[1;33m\u001b[0m\u001b[1;33m\u001b[0m\u001b[0m\n\u001b[0m\u001b[0;32m      8\u001b[0m         \u001b[0mprint\u001b[0m\u001b[1;33m(\u001b[0m\u001b[1;34m\"상금은 100만원입니다.\"\u001b[0m\u001b[1;33m)\u001b[0m\u001b[1;33m\u001b[0m\u001b[1;33m\u001b[0m\u001b[0m\n\u001b[0;32m      9\u001b[0m     \u001b[1;32melif\u001b[0m\u001b[1;33m(\u001b[0m\u001b[0mlotto\u001b[0m\u001b[1;33m[\u001b[0m\u001b[1;36m0\u001b[0m\u001b[1;33m]\u001b[0m \u001b[1;33m==\u001b[0m \u001b[0myour\u001b[0m\u001b[1;33m[\u001b[0m\u001b[1;36m0\u001b[0m\u001b[1;33m]\u001b[0m\u001b[1;33m)\u001b[0m \u001b[1;33m:\u001b[0m\u001b[1;33m\u001b[0m\u001b[1;33m\u001b[0m\u001b[0m\n",
      "\u001b[1;31mValueError\u001b[0m: The truth value of an array with more than one element is ambiguous. Use a.any() or a.all()"
     ]
    }
   ],
   "source": [
    "import random\n",
    "lotto = np.random.choice(np.arange(1,46), size = 2, replace = False)\n",
    "your = int(input(\"복권번호를 입력하시오(0~99):  \"))\n",
    "print(\"당첨번호는\", lotto, \"입니다.\")\n",
    "\n",
    "def random():\n",
    "    if (lotto == your):\n",
    "        print(\"상금은 100만원입니다.\")\n",
    "    elif(lotto[0] == your[0]) :\n",
    "        print(\"상금은 50만원입니다.\")\n",
    "    elif(lotto[0] == your[1]) :\n",
    "        print(\"상금은 50만원입니다.\")\n",
    "    elif(lotto[1] == your[1]) :\n",
    "        print(\"상금은 50만원입니다.\")\n",
    "    elif(lotto[1] == your[0]) :\n",
    "        print(\"상금은 50만원입니다.\")\n",
    "    else:\n",
    "        print(\"상금은 없습니다.\")\n",
    "        \n",
    "random()"
   ]
  },
  {
   "cell_type": "code",
   "execution_count": 40,
   "metadata": {},
   "outputs": [
    {
     "name": "stdout",
     "output_type": "stream",
     "text": [
      "[16 29]\n"
     ]
    }
   ],
   "source": [
    "a= np.random.choice(np.arange(1,46), size =2, replace = False)\n",
    "print(a)"
   ]
  },
  {
   "cell_type": "code",
   "execution_count": 51,
   "metadata": {},
   "outputs": [
    {
     "name": "stdout",
     "output_type": "stream",
     "text": [
      "[[ 1.06053712 -0.10391072 -0.16979768  0.78070376]\n",
      " [-2.278323    2.12822567  0.36948124  0.51320787]\n",
      " [-1.7905352  -0.64783369  1.07060997 -0.87855659]\n",
      " [-1.82309945  1.5965735   0.61503569 -0.44877952]\n",
      " [ 0.64197695 -0.1859211   0.15950096 -0.13809629]\n",
      " [-0.84667351  1.42273019  0.37616745 -1.47330283]\n",
      " [ 0.7357088  -0.85272865 -0.2739102  -0.0270668 ]]\n",
      "[False False  True  True  True  True  True]\n",
      "[[-1.7905352  -0.64783369  1.07060997 -0.87855659]\n",
      " [-1.82309945  1.5965735   0.61503569 -0.44877952]\n",
      " [ 0.64197695 -0.1859211   0.15950096 -0.13809629]\n",
      " [-0.84667351  1.42273019  0.37616745 -1.47330283]\n",
      " [ 0.7357088  -0.85272865 -0.2739102  -0.0270668 ]]\n"
     ]
    }
   ],
   "source": [
    "name = np.array([\"a1\",\"a2\",\"a3\",\"a1\",\"a2\",\"a3\",\"a7\"])\n",
    "data = np.random.randn(7,4)\n",
    "\n",
    "#names=\"a1\"\n",
    "#data[names==\"a1\",:]\n",
    "#print(data[(names==\"a1\") | (names==\"a2\"), :])\n",
    "\n",
    "print(data)\n",
    "print(data[:,3]<0)\n",
    "print(data[data[:,3]<0,:])"
   ]
  },
  {
   "cell_type": "code",
   "execution_count": 56,
   "metadata": {},
   "outputs": [
    {
     "name": "stdout",
     "output_type": "stream",
     "text": [
      "[[ 0  1  2]\n",
      " [ 3  4  5]\n",
      " [ 6  7  8]\n",
      " [ 9 10 11]\n",
      " [12 13 14]]\n",
      "[[3 4 5]\n",
      " [6 7 8]]\n",
      "[[12 13 14]\n",
      " [ 9 10 11]]\n"
     ]
    }
   ],
   "source": [
    "# fancy indexing\n",
    "import numpy as np\n",
    "a = np.arange(15).reshape(5,3)\n",
    "print(a)\n",
    "print(a[[1,2]])\n",
    "print(a[[-1,-2]])"
   ]
  },
  {
   "cell_type": "code",
   "execution_count": 60,
   "metadata": {},
   "outputs": [
    {
     "name": "stdout",
     "output_type": "stream",
     "text": [
      "[ 3  6  9 12 15 18]\n",
      "[ 1  5  9 13 17]\n",
      "[9]\n"
     ]
    }
   ],
   "source": [
    "x= np.array([1,2,3,4,5,6,7,8,9,10,11,12,13,14,15,16,17,18,19,20])\n",
    "\n",
    "# 3의 배수를 찾는 코드\n",
    "print(x[x % 3 ==0])\n",
    "# 4로 나누면 1이 남는 수를 찾기\n",
    "print(x[x % 4 ==1])\n",
    "# 3의 배수이며 4로 나누면 1이 남는 수\n",
    "print(x[(x % 3 ==0) & (x % 4 ==1)])\n",
    "\n"
   ]
  },
  {
   "cell_type": "code",
   "execution_count": 62,
   "metadata": {},
   "outputs": [
    {
     "name": "stdout",
     "output_type": "stream",
     "text": [
      "[[8 1 4 9 9 6]\n",
      " [9 2 5 5 5 9]]\n",
      "\n",
      "\n",
      "[[8 1]\n",
      " [4 9]\n",
      " [9 6]\n",
      " [9 2]\n",
      " [5 5]\n",
      " [5 9]]\n",
      "\n",
      "\n",
      "[[8 1 4 9 9 6 9 2 5 5]\n",
      " [5 9 0 0 0 0 0 0 0 0]]\n",
      "\n",
      "\n"
     ]
    }
   ],
   "source": [
    "a = np.random.randint(1,10,(2,6))\n",
    "print(a)\n",
    "print(\"\\n\")\n",
    "a.resize((6,2))\n",
    "print(a)\n",
    "print(\"\\n\")\n",
    "a.resize((2,10))\n",
    "print(a)\n",
    "print(\"\\n\")"
   ]
  },
  {
   "cell_type": "code",
   "execution_count": 64,
   "metadata": {},
   "outputs": [
    {
     "name": "stdout",
     "output_type": "stream",
     "text": [
      "[[1 2 3]\n",
      " [4 5 6]\n",
      " [7 8 9]]\n",
      "\n",
      "\n",
      "[[10 11 12]\n",
      " [13 14 15]\n",
      " [16 17 18]]\n",
      "\n",
      "\n",
      "[ 1  2  3  4  5  6  7  8  9 10 11 12 13 14 15 16 17 18]\n",
      "\n",
      "\n",
      "[[ 1  2  3]\n",
      " [ 4  5  6]\n",
      " [ 7  8  9]\n",
      " [10 11 12]\n",
      " [13 14 15]\n",
      " [16 17 18]]\n"
     ]
    }
   ],
   "source": [
    "a= np.arange(1,10).reshape(3,3)\n",
    "print(a)\n",
    "print(\"\\n\")\n",
    "b= np.arange(10,19).reshape(3,3)\n",
    "print(b)\n",
    "print(\"\\n\")\n",
    "result = np.append(a,b)\n",
    "print(result)\n",
    "print(\"\\n\")\n",
    "result2 = np.append(a,b, axis=0)\n",
    "print(result2)"
   ]
  },
  {
   "cell_type": "code",
   "execution_count": 67,
   "metadata": {},
   "outputs": [
    {
     "name": "stdout",
     "output_type": "stream",
     "text": [
      "[array([[ 1,  2],\n",
      "       [ 7,  8],\n",
      "       [13, 14],\n",
      "       [19, 20]]), array([[ 3,  4],\n",
      "       [ 9, 10],\n",
      "       [15, 16],\n",
      "       [21, 22]]), array([[ 5,  6],\n",
      "       [11, 12],\n",
      "       [17, 18],\n",
      "       [23, 24]])]\n"
     ]
    }
   ],
   "source": [
    "# 잃어 버린 기억..\n",
    "a = np.arange(1,25).reshape((4,6))\n",
    "result = np.hsplit(a,3)\n",
    "print(result)"
   ]
  },
  {
   "cell_type": "code",
   "execution_count": 77,
   "metadata": {},
   "outputs": [
    {
     "name": "stdout",
     "output_type": "stream",
     "text": [
      "[0. 0. 0.]\n",
      "[1. 1.]\n",
      "[ 10.  20.  30.  40.  50.  60.  70.  80.  90. 100. 110. 120. 130. 140.\n",
      " 150.]\n",
      "[[ 10.  20.  30.  40.  50.]\n",
      " [ 60.  70.  80.  90. 100.]\n",
      " [110. 120. 130. 140. 150.]]\n",
      "[0. 0. 0. 1. 1.]\n",
      "[array([10., 20., 30., 40., 50.]), array([ 60.,  70.,  80.,  90., 100.]), array([110., 120., 130., 140., 150.])]\n",
      "\n",
      "\n",
      "\n",
      "\n",
      "[array([[0., 0., 0., 1., 1.],\n",
      "       [0., 0., 0., 1., 1.],\n",
      "       [0., 0., 0., 1., 1.]]), [array([10., 20., 30., 40., 50.]), array([ 60.,  70.,  80.,  90., 100.]), array([110., 120., 130., 140., 150.])], array([[0., 0., 0., 1., 1.],\n",
      "       [0., 0., 0., 1., 1.],\n",
      "       [0., 0., 0., 1., 1.]]), [array([10., 20., 30., 40., 50.]), array([ 60.,  70.,  80.,  90., 100.]), array([110., 120., 130., 140., 150.])]]\n"
     ]
    }
   ],
   "source": [
    "a = np.zeros(3)\n",
    "b = np.ones(2)\n",
    "c = np.linspace(10,150,15)\n",
    "d = c.reshape(3,5)\n",
    "\n",
    "print(a)\n",
    "print(b)\n",
    "print(c)\n",
    "print(d)\n",
    "\n",
    "A = np.hstack((a,b))\n",
    "print(A)\n",
    "A2 = np.vstack((A,A,A))\n",
    "B = np.hsplit(c,3)\n",
    "print(B)\n",
    "print(\"\\n\")\n",
    "print(\"\\n\")\n",
    "C = [A2,B,A2,B]\n",
    "print(C)"
   ]
  },
  {
   "cell_type": "code",
   "execution_count": 81,
   "metadata": {},
   "outputs": [
    {
     "name": "stdout",
     "output_type": "stream",
     "text": [
      "[0 0 0 ... 0 0 0]\n",
      "\n",
      "\n",
      "[10002 10004 10006 ... 29996 29998 30000]\n"
     ]
    }
   ],
   "source": [
    "x = np.arange(1,10001)\n",
    "y = np.arange(10001,20001)\n",
    "\n",
    "# 사칙연산 덧셈을 의미\n",
    "\n",
    "z = np.zeros_like(x) # x의 크기만 전달\n",
    "print(z)\n",
    "print(\"\\n\")\n",
    "\n",
    "for i in range(10000):\n",
    "    z[i] = x[i]+ y[i]\n",
    "print(z)"
   ]
  },
  {
   "cell_type": "code",
   "execution_count": 85,
   "metadata": {},
   "outputs": [
    {
     "name": "stdout",
     "output_type": "stream",
     "text": [
      "[0 1 2 3 4]\n",
      "[1 2 3 4 5]\n",
      "[1 2 3 4 5]\n"
     ]
    }
   ],
   "source": [
    "x= np.arange(5)\n",
    "y= np.ones_like(x)\n",
    "#x+y\n",
    "print(x)\n",
    "print(x+1)\n",
    "print(x+y)"
   ]
  },
  {
   "cell_type": "code",
   "execution_count": 88,
   "metadata": {},
   "outputs": [
    {
     "name": "stdout",
     "output_type": "stream",
     "text": [
      "10\n",
      "1\n",
      "0\n",
      "False\n"
     ]
    }
   ],
   "source": [
    "x = np.array([1,2,3,4])\n",
    "print(x.sum())\n",
    "print(x.min())\n",
    "print(x.argmin()) # 가장 작은 애의 index를 알려준다\n",
    "\n",
    "print(np.all([True,True,False]))"
   ]
  },
  {
   "cell_type": "code",
   "execution_count": 96,
   "metadata": {},
   "outputs": [
    {
     "name": "stdout",
     "output_type": "stream",
     "text": [
      "[[ 1  2  3  4  5]\n",
      " [ 6  7  8  9 10]\n",
      " [11 12 13 14 15]\n",
      " [16 17 18 19 20]\n",
      " [21 22 23 24 25]\n",
      " [26 27 28 29 30]]\n",
      "\n",
      "\n",
      "30\n",
      "1\n",
      "[ 5 10 15 20 25 30]\n"
     ]
    },
    {
     "ename": "TypeError",
     "evalue": "only integer scalar arrays can be converted to a scalar index",
     "output_type": "error",
     "traceback": [
      "\u001b[1;31m---------------------------------------------------------------------------\u001b[0m",
      "\u001b[1;31mTypeError\u001b[0m                                 Traceback (most recent call last)",
      "\u001b[1;32m<ipython-input-96-1035980b700e>\u001b[0m in \u001b[0;36m<module>\u001b[1;34m\u001b[0m\n\u001b[0;32m      6\u001b[0m \u001b[0mprint\u001b[0m\u001b[1;33m(\u001b[0m\u001b[0mx\u001b[0m\u001b[1;33m.\u001b[0m\u001b[0mmin\u001b[0m\u001b[1;33m(\u001b[0m\u001b[1;33m)\u001b[0m\u001b[1;33m)\u001b[0m\u001b[1;33m\u001b[0m\u001b[1;33m\u001b[0m\u001b[0m\n\u001b[0;32m      7\u001b[0m \u001b[0mprint\u001b[0m\u001b[1;33m(\u001b[0m\u001b[0mx\u001b[0m\u001b[1;33m.\u001b[0m\u001b[0mmax\u001b[0m\u001b[1;33m(\u001b[0m\u001b[0maxis\u001b[0m\u001b[1;33m=\u001b[0m\u001b[1;36m1\u001b[0m\u001b[1;33m)\u001b[0m\u001b[1;33m)\u001b[0m\u001b[1;33m\u001b[0m\u001b[1;33m\u001b[0m\u001b[0m\n\u001b[1;32m----> 8\u001b[1;33m \u001b[0mprint\u001b[0m\u001b[1;33m(\u001b[0m\u001b[0mx\u001b[0m\u001b[1;33m.\u001b[0m\u001b[0mmean\u001b[0m\u001b[1;33m(\u001b[0m\u001b[0mx\u001b[0m\u001b[1;33m.\u001b[0m\u001b[0msum\u001b[0m\u001b[1;33m(\u001b[0m\u001b[0maxis\u001b[0m\u001b[1;33m=\u001b[0m\u001b[1;36m1\u001b[0m\u001b[1;33m)\u001b[0m\u001b[1;33m)\u001b[0m\u001b[1;33m)\u001b[0m\u001b[1;33m\u001b[0m\u001b[1;33m\u001b[0m\u001b[0m\n\u001b[0m\u001b[0;32m      9\u001b[0m \u001b[1;33m\u001b[0m\u001b[0m\n\u001b[0;32m     10\u001b[0m \u001b[0mprint\u001b[0m\u001b[1;33m(\u001b[0m\u001b[0mx\u001b[0m\u001b[1;33m.\u001b[0m\u001b[0mmin\u001b[0m\u001b[1;33m(\u001b[0m\u001b[0maxis\u001b[0m\u001b[1;33m=\u001b[0m\u001b[1;36m1\u001b[0m\u001b[1;33m)\u001b[0m\u001b[1;33m)\u001b[0m\u001b[1;33m\u001b[0m\u001b[1;33m\u001b[0m\u001b[0m\n",
      "\u001b[1;32mD:\\anaconda\\lib\\site-packages\\numpy\\core\\_methods.py\u001b[0m in \u001b[0;36m_mean\u001b[1;34m(a, axis, dtype, out, keepdims)\u001b[0m\n\u001b[0;32m    145\u001b[0m \u001b[1;33m\u001b[0m\u001b[0m\n\u001b[0;32m    146\u001b[0m     \u001b[0mis_float16_result\u001b[0m \u001b[1;33m=\u001b[0m \u001b[1;32mFalse\u001b[0m\u001b[1;33m\u001b[0m\u001b[1;33m\u001b[0m\u001b[0m\n\u001b[1;32m--> 147\u001b[1;33m     \u001b[0mrcount\u001b[0m \u001b[1;33m=\u001b[0m \u001b[0m_count_reduce_items\u001b[0m\u001b[1;33m(\u001b[0m\u001b[0marr\u001b[0m\u001b[1;33m,\u001b[0m \u001b[0maxis\u001b[0m\u001b[1;33m)\u001b[0m\u001b[1;33m\u001b[0m\u001b[1;33m\u001b[0m\u001b[0m\n\u001b[0m\u001b[0;32m    148\u001b[0m     \u001b[1;31m# Make this warning show up first\u001b[0m\u001b[1;33m\u001b[0m\u001b[1;33m\u001b[0m\u001b[1;33m\u001b[0m\u001b[0m\n\u001b[0;32m    149\u001b[0m     \u001b[1;32mif\u001b[0m \u001b[0mrcount\u001b[0m \u001b[1;33m==\u001b[0m \u001b[1;36m0\u001b[0m\u001b[1;33m:\u001b[0m\u001b[1;33m\u001b[0m\u001b[1;33m\u001b[0m\u001b[0m\n",
      "\u001b[1;32mD:\\anaconda\\lib\\site-packages\\numpy\\core\\_methods.py\u001b[0m in \u001b[0;36m_count_reduce_items\u001b[1;34m(arr, axis)\u001b[0m\n\u001b[0;32m     64\u001b[0m     \u001b[0mitems\u001b[0m \u001b[1;33m=\u001b[0m \u001b[1;36m1\u001b[0m\u001b[1;33m\u001b[0m\u001b[1;33m\u001b[0m\u001b[0m\n\u001b[0;32m     65\u001b[0m     \u001b[1;32mfor\u001b[0m \u001b[0max\u001b[0m \u001b[1;32min\u001b[0m \u001b[0maxis\u001b[0m\u001b[1;33m:\u001b[0m\u001b[1;33m\u001b[0m\u001b[1;33m\u001b[0m\u001b[0m\n\u001b[1;32m---> 66\u001b[1;33m         \u001b[0mitems\u001b[0m \u001b[1;33m*=\u001b[0m \u001b[0marr\u001b[0m\u001b[1;33m.\u001b[0m\u001b[0mshape\u001b[0m\u001b[1;33m[\u001b[0m\u001b[0mmu\u001b[0m\u001b[1;33m.\u001b[0m\u001b[0mnormalize_axis_index\u001b[0m\u001b[1;33m(\u001b[0m\u001b[0max\u001b[0m\u001b[1;33m,\u001b[0m \u001b[0marr\u001b[0m\u001b[1;33m.\u001b[0m\u001b[0mndim\u001b[0m\u001b[1;33m)\u001b[0m\u001b[1;33m]\u001b[0m\u001b[1;33m\u001b[0m\u001b[1;33m\u001b[0m\u001b[0m\n\u001b[0m\u001b[0;32m     67\u001b[0m     \u001b[1;32mreturn\u001b[0m \u001b[0mitems\u001b[0m\u001b[1;33m\u001b[0m\u001b[1;33m\u001b[0m\u001b[0m\n\u001b[0;32m     68\u001b[0m \u001b[1;33m\u001b[0m\u001b[0m\n",
      "\u001b[1;31mTypeError\u001b[0m: only integer scalar arrays can be converted to a scalar index"
     ]
    }
   ],
   "source": [
    "x = np.arange(1,31).reshape(6,5)\n",
    "print(x)\n",
    "print(\"\\n\")\n",
    "\n",
    "print(x.max())\n",
    "print(x.min())\n",
    "print(x.max(axis=1))\n",
    "print(x.sum(axis=1))\n",
    "\n",
    "print(x.min(axis=1))\n",
    "print(x.argmin(axis=1))\n"
   ]
  },
  {
   "cell_type": "code",
   "execution_count": 100,
   "metadata": {},
   "outputs": [
    {
     "name": "stdout",
     "output_type": "stream",
     "text": [
      "[[ 3  4  5  7]\n",
      " [ 1  9 11 12]\n",
      " [ 1  2 14 15]]\n",
      "[[1 0 2 3]\n",
      " [0 3 2 1]\n",
      " [2 0 3 1]]\n"
     ]
    }
   ],
   "source": [
    "a = np.array([[4,3,5,7],[1,12,11,9],[2,15,1,14]])\n",
    "a\n",
    "print(np.sort(a))\n",
    "print(np.argsort(a))"
   ]
  },
  {
   "cell_type": "code",
   "execution_count": 104,
   "metadata": {},
   "outputs": [
    {
     "name": "stdout",
     "output_type": "stream",
     "text": [
      "[[1. 0. 0. 0.]\n",
      " [0. 1. 0. 0.]\n",
      " [0. 0. 1. 0.]\n",
      " [0. 0. 0. 1.]]\n",
      "\n",
      "\n",
      "[[0 1 2]\n",
      " [3 4 5]\n",
      " [6 7 8]]\n",
      "\n",
      "\n",
      "[0 4 8]\n",
      "\n",
      "\n",
      "[[0 0 0]\n",
      " [0 4 0]\n",
      " [0 0 8]]\n"
     ]
    }
   ],
   "source": [
    "unit_mat_4 = np.eye(4)\n",
    "print(unit_mat_4)\n",
    "# eye 로 단위행렬 생성\n",
    "print(\"\\n\")\n",
    "\n",
    "x = np.arange(9).reshape(3,3)\n",
    "print(x)\n",
    "print(\"\\n\")\n",
    "print(np.diag(x))\n",
    "print(\"\\n\")\n",
    "print(np.diag(np.diag(x)))"
   ]
  },
  {
   "cell_type": "code",
   "execution_count": 106,
   "metadata": {},
   "outputs": [
    {
     "name": "stdout",
     "output_type": "stream",
     "text": [
      "[[0 1]\n",
      " [2 3]]\n",
      "\n",
      "\n",
      "[[0 1]\n",
      " [4 9]]\n",
      "\n",
      "\n",
      "[[ 2  3]\n",
      " [ 6 11]]\n"
     ]
    }
   ],
   "source": [
    "x = np.arange(4).reshape(2,2)\n",
    "print(x)\n",
    "print(\"\\n\")\n",
    "print(x*x) #제곱\n",
    "print(\"\\n\")\n",
    "print(np.dot(x,x)) "
   ]
  },
  {
   "cell_type": "code",
   "execution_count": 111,
   "metadata": {},
   "outputs": [
    {
     "name": "stderr",
     "output_type": "stream",
     "text": [
      "<>:5: SyntaxWarning: list indices must be integers or slices, not tuple; perhaps you missed a comma?\n",
      "<>:5: SyntaxWarning: list indices must be integers or slices, not tuple; perhaps you missed a comma?\n",
      "<ipython-input-111-3a5892bc6333>:5: SyntaxWarning: list indices must be integers or slices, not tuple; perhaps you missed a comma?\n",
      "  a = np.array([[4,3][3,2]])\n"
     ]
    },
    {
     "ename": "TypeError",
     "evalue": "list indices must be integers or slices, not tuple",
     "output_type": "error",
     "traceback": [
      "\u001b[1;31m---------------------------------------------------------------------------\u001b[0m",
      "\u001b[1;31mTypeError\u001b[0m                                 Traceback (most recent call last)",
      "\u001b[1;32m<ipython-input-111-3a5892bc6333>\u001b[0m in \u001b[0;36m<module>\u001b[1;34m\u001b[0m\n\u001b[0;32m      3\u001b[0m \u001b[1;31m#23= 4*x0+3*x1\u001b[0m\u001b[1;33m\u001b[0m\u001b[1;33m\u001b[0m\u001b[1;33m\u001b[0m\u001b[0m\n\u001b[0;32m      4\u001b[0m \u001b[1;31m#16= 3*x0+2*x1\u001b[0m\u001b[1;33m\u001b[0m\u001b[1;33m\u001b[0m\u001b[1;33m\u001b[0m\u001b[0m\n\u001b[1;32m----> 5\u001b[1;33m \u001b[0ma\u001b[0m \u001b[1;33m=\u001b[0m \u001b[0mnp\u001b[0m\u001b[1;33m.\u001b[0m\u001b[0marray\u001b[0m\u001b[1;33m(\u001b[0m\u001b[1;33m[\u001b[0m\u001b[1;33m[\u001b[0m\u001b[1;36m4\u001b[0m\u001b[1;33m,\u001b[0m\u001b[1;36m3\u001b[0m\u001b[1;33m]\u001b[0m\u001b[1;33m[\u001b[0m\u001b[1;36m3\u001b[0m\u001b[1;33m,\u001b[0m\u001b[1;36m2\u001b[0m\u001b[1;33m]\u001b[0m\u001b[1;33m]\u001b[0m\u001b[1;33m)\u001b[0m\u001b[1;33m\u001b[0m\u001b[1;33m\u001b[0m\u001b[0m\n\u001b[0m\u001b[0;32m      6\u001b[0m \u001b[0mb\u001b[0m \u001b[1;33m=\u001b[0m \u001b[0mnp\u001b[0m\u001b[1;33m.\u001b[0m\u001b[0marray\u001b[0m\u001b[1;33m(\u001b[0m\u001b[1;33m[\u001b[0m\u001b[1;36m23\u001b[0m\u001b[1;33m,\u001b[0m\u001b[1;36m16\u001b[0m\u001b[1;33m]\u001b[0m\u001b[1;33m)\u001b[0m\u001b[1;33m\u001b[0m\u001b[1;33m\u001b[0m\u001b[0m\n\u001b[0;32m      7\u001b[0m \u001b[0mx\u001b[0m\u001b[1;33m=\u001b[0m \u001b[0mnp\u001b[0m\u001b[1;33m.\u001b[0m\u001b[0mlinalg\u001b[0m\u001b[1;33m.\u001b[0m\u001b[0msolve\u001b[0m\u001b[1;33m(\u001b[0m\u001b[0ma\u001b[0m\u001b[1;33m,\u001b[0m\u001b[0mb\u001b[0m\u001b[1;33m)\u001b[0m\u001b[1;33m\u001b[0m\u001b[1;33m\u001b[0m\u001b[0m\n",
      "\u001b[1;31mTypeError\u001b[0m: list indices must be integers or slices, not tuple"
     ]
    }
   ],
   "source": [
    "import numpy as np\n",
    "\n",
    "#23= 4*x0+3*x1\n",
    "#16= 3*x0+2*x1\n",
    "a = np.array([[4,3][3,2]])\n",
    "b = np.array([23,16])\n",
    "x= np.linalg.solve(a,b)\n",
    "print(x)"
   ]
  },
  {
   "cell_type": "code",
   "execution_count": 114,
   "metadata": {},
   "outputs": [
    {
     "name": "stdout",
     "output_type": "stream",
     "text": [
      "[[[0.61061681 0.27651095 0.84064942]\n",
      "  [0.05555619 0.28889483 0.02755675]\n",
      "  [0.15698401 0.90027497 0.3148328 ]]\n",
      "\n",
      " [[0.52694579 0.13408534 0.25581065]\n",
      "  [0.9238139  0.22739558 0.33629883]\n",
      "  [0.8178362  0.69068147 0.79880679]]\n",
      "\n",
      " [[0.56200219 0.36632614 0.12269304]\n",
      "  [0.99165913 0.68717196 0.67865653]\n",
      "  [0.92308521 0.10913863 0.69415603]]]\n",
      "[[9.90934144e-04 7.85862641e-01 1.64926686e-01 8.54366526e-02\n",
      "  1.44097974e-01 3.96263507e-01 6.22693131e-01 7.63720349e-01\n",
      "  7.50060542e-01 1.19035842e-01]\n",
      " [1.63938169e-01 7.86174485e-01 7.01999002e-01 7.61696025e-02\n",
      "  5.23578015e-01 8.48268823e-01 5.93506204e-01 9.61773684e-02\n",
      "  4.12144718e-01 2.59422810e-01]\n",
      " [1.83047045e-01 1.09763853e-01 7.37420873e-01 6.14670056e-01\n",
      "  6.37455521e-01 6.27568579e-02 1.97271965e-01 6.46663360e-01\n",
      "  7.86449641e-02 5.69714933e-02]\n",
      " [6.56465670e-01 8.21032049e-01 2.12618214e-01 2.61869505e-01\n",
      "  3.45403289e-01 4.38869858e-02 9.74629358e-01 4.77458880e-01\n",
      "  2.66718533e-01 2.54565810e-01]\n",
      " [6.35483721e-01 5.86854349e-01 9.60702824e-01 4.80941212e-01\n",
      "  5.08375532e-01 8.10228629e-01 4.95288412e-01 7.57656088e-01\n",
      "  7.46962036e-01 5.66877195e-02]\n",
      " [9.74941380e-01 4.98070477e-01 5.27768495e-01 8.57283569e-01\n",
      "  5.60914773e-01 9.98777582e-01 5.81470769e-01 9.13952632e-01\n",
      "  2.22120708e-01 7.99454332e-01]\n",
      " [2.78738102e-01 5.55780967e-01 9.79942963e-01 1.88015925e-01\n",
      "  6.62862002e-03 7.58277121e-01 1.17090447e-01 9.28680134e-01\n",
      "  6.13539238e-01 2.67436576e-01]\n",
      " [5.81262026e-01 6.00329117e-01 5.19294826e-01 2.68361511e-01\n",
      "  8.56402741e-01 2.88835136e-01 8.75403711e-01 8.64440107e-01\n",
      "  7.87200083e-01 9.70902044e-01]\n",
      " [8.58749061e-01 9.20776785e-01 1.94285444e-01 6.32314650e-01\n",
      "  6.79929100e-02 4.58955845e-01 8.12852542e-01 1.63354044e-01\n",
      "  8.00611461e-01 7.86344882e-01]\n",
      " [9.61908473e-01 2.19636490e-01 6.57966631e-01 4.96279060e-01\n",
      "  6.35207333e-01 7.40052748e-02 9.02509017e-01 3.80251846e-01\n",
      "  8.88566245e-01 1.26267991e-02]]\n",
      "0.9987775824812192\n",
      "0.0009909341444441777\n"
     ]
    }
   ],
   "source": [
    "x = np.random.random((3,3,3))\n",
    "print(x)\n",
    "y = np.random.random((10,10))\n",
    "ymax = y.max()\n",
    "ymin = y.min()\n",
    "print(y)\n",
    "print(ymax)\n",
    "print(ymin)"
   ]
  },
  {
   "cell_type": "code",
   "execution_count": null,
   "metadata": {},
   "outputs": [],
   "source": []
  }
 ],
 "metadata": {
  "kernelspec": {
   "display_name": "Python 3",
   "language": "python",
   "name": "python3"
  },
  "language_info": {
   "codemirror_mode": {
    "name": "ipython",
    "version": 3
   },
   "file_extension": ".py",
   "mimetype": "text/x-python",
   "name": "python",
   "nbconvert_exporter": "python",
   "pygments_lexer": "ipython3",
   "version": "3.8.5"
  }
 },
 "nbformat": 4,
 "nbformat_minor": 4
}
