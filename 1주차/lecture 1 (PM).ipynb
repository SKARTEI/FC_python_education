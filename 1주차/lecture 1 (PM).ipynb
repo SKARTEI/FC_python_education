{
 "cells": [
  {
   "cell_type": "code",
   "execution_count": 5,
   "metadata": {},
   "outputs": [
    {
     "name": "stdout",
     "output_type": "stream",
     "text": [
      "166833\n",
      "1001\n"
     ]
    }
   ],
   "source": [
    "sum = 0\n",
    "i = 1\n",
    "\n",
    "while i <= 1000:\n",
    "    if (i % 3 ==0):\n",
    "        sum = sum+i\n",
    "        i=i+1\n",
    "    # 3의 배수이면 sum에 더해준다\n",
    "    \n",
    "    else:\n",
    "        i=i+1\n",
    "    # 3의 배수가 아니면 그냥 넘어감\n",
    "    \n",
    "print(sum)\n",
    "print(i)\n",
    "\n"
   ]
  },
  {
   "cell_type": "code",
   "execution_count": 7,
   "metadata": {},
   "outputs": [
    {
     "name": "stdout",
     "output_type": "stream",
     "text": [
      "0\n",
      "10\n",
      "0.0\n"
     ]
    }
   ],
   "source": [
    "jum = [70, 60, 55,75,95,90,80,80,85,100]\n",
    "result = 0\n",
    "\n",
    "for score in jum:\n",
    "    reslut = result + score\n",
    "\n",
    "print(result)\n",
    "average = result / len(jum)\n",
    "print(len(jum))\n",
    "print(average)"
   ]
  },
  {
   "cell_type": "code",
   "execution_count": 12,
   "metadata": {},
   "outputs": [
    {
     "name": "stdout",
     "output_type": "stream",
     "text": [
      "21\n",
      "13\n"
     ]
    }
   ],
   "source": [
    "def sumofdigits(num):\n",
    "        sum = 0\n",
    "        \n",
    "        while (num >= 1):\n",
    "            sum = sum + (num % 10)\n",
    "            num = num //10\n",
    "        \n",
    "        return sum\n",
    "    \n",
    "print(sumofdigits(47253))\n",
    "print(sumofdigits(643))"
   ]
  },
  {
   "cell_type": "markdown",
   "metadata": {},
   "source": [
    "오후내용, 함수"
   ]
  },
  {
   "cell_type": "code",
   "execution_count": 14,
   "metadata": {},
   "outputs": [
    {
     "name": "stdout",
     "output_type": "stream",
     "text": [
      "3\n",
      "21\n"
     ]
    }
   ],
   "source": [
    "def total(*num):\n",
    "    tot = 0\n",
    "    for n in num:\n",
    "        tot += n\n",
    "    return tot\n",
    "\n",
    "t = total(1,2)\n",
    "print(t)\n",
    "t = total(1,2,3,4,5,6)\n",
    "print(t)"
   ]
  },
  {
   "cell_type": "code",
   "execution_count": 20,
   "metadata": {},
   "outputs": [
    {
     "name": "stdout",
     "output_type": "stream",
     "text": [
      "korea\n",
      "sweden\n",
      "mexico\n",
      "germany\n"
     ]
    }
   ],
   "source": [
    "def print_list2(*test_list):\n",
    "    for text in test_list:\n",
    "        print (text)\n",
    "        \n",
    "print_list2('korea','sweden','mexico','germany')"
   ]
  },
  {
   "cell_type": "code",
   "execution_count": 23,
   "metadata": {},
   "outputs": [
    {
     "name": "stdout",
     "output_type": "stream",
     "text": [
      "{'one': '일', 'two': '이', 'three': '삼'}\n"
     ]
    }
   ],
   "source": [
    "#dicitonary 형태\n",
    "def save_number (**kargs):\n",
    "    print(kargs)\n",
    "    \n",
    "save_number(one='일', two='이', three='삼')"
   ]
  },
  {
   "cell_type": "code",
   "execution_count": 27,
   "metadata": {},
   "outputs": [
    {
     "ename": "NameError",
     "evalue": "name 'numbers' is not defined",
     "output_type": "error",
     "traceback": [
      "\u001b[1;31m---------------------------------------------------------------------------\u001b[0m",
      "\u001b[1;31mNameError\u001b[0m                                 Traceback (most recent call last)",
      "\u001b[1;32m<ipython-input-27-9a729a3de28f>\u001b[0m in \u001b[0;36m<module>\u001b[1;34m\u001b[0m\n\u001b[0;32m      7\u001b[0m     \u001b[1;32mreturn\u001b[0m \u001b[0mcount\u001b[0m\u001b[1;33m,\u001b[0m \u001b[0mtot\u001b[0m\u001b[1;33m\u001b[0m\u001b[1;33m\u001b[0m\u001b[0m\n\u001b[0;32m      8\u001b[0m \u001b[1;33m\u001b[0m\u001b[0m\n\u001b[1;32m----> 9\u001b[1;33m \u001b[0mcount\u001b[0m\u001b[1;33m,\u001b[0m\u001b[0msum\u001b[0m \u001b[1;33m=\u001b[0m \u001b[0mcalc\u001b[0m\u001b[1;33m(\u001b[0m\u001b[1;36m1\u001b[0m\u001b[1;33m,\u001b[0m\u001b[1;36m5\u001b[0m\u001b[1;33m,\u001b[0m\u001b[1;36m2\u001b[0m\u001b[1;33m,\u001b[0m\u001b[1;36m6\u001b[0m\u001b[1;33m)\u001b[0m\u001b[1;33m\u001b[0m\u001b[1;33m\u001b[0m\u001b[0m\n\u001b[0m\u001b[0;32m     10\u001b[0m \u001b[0mprint\u001b[0m\u001b[1;33m(\u001b[0m\u001b[0mcount\u001b[0m\u001b[1;33m,\u001b[0m \u001b[0msum\u001b[0m\u001b[1;33m)\u001b[0m\u001b[1;33m\u001b[0m\u001b[1;33m\u001b[0m\u001b[0m\n",
      "\u001b[1;32m<ipython-input-27-9a729a3de28f>\u001b[0m in \u001b[0;36mcalc\u001b[1;34m(*n)\u001b[0m\n\u001b[0;32m      2\u001b[0m     \u001b[0mcount\u001b[0m \u001b[1;33m=\u001b[0m \u001b[1;36m0\u001b[0m\u001b[1;33m\u001b[0m\u001b[1;33m\u001b[0m\u001b[0m\n\u001b[0;32m      3\u001b[0m     \u001b[0mtot\u001b[0m \u001b[1;33m=\u001b[0m \u001b[1;36m0\u001b[0m\u001b[1;33m\u001b[0m\u001b[1;33m\u001b[0m\u001b[0m\n\u001b[1;32m----> 4\u001b[1;33m     \u001b[1;32mfor\u001b[0m \u001b[0mi\u001b[0m \u001b[1;32min\u001b[0m \u001b[0mnumbers\u001b[0m\u001b[1;33m:\u001b[0m\u001b[1;33m\u001b[0m\u001b[1;33m\u001b[0m\u001b[0m\n\u001b[0m\u001b[0;32m      5\u001b[0m         \u001b[0mcount\u001b[0m \u001b[1;33m=\u001b[0m \u001b[0mcount\u001b[0m \u001b[1;33m+\u001b[0m\u001b[1;36m1\u001b[0m\u001b[1;33m\u001b[0m\u001b[1;33m\u001b[0m\u001b[0m\n\u001b[0;32m      6\u001b[0m         \u001b[0mtot\u001b[0m \u001b[1;33m=\u001b[0m \u001b[0mtot\u001b[0m\u001b[1;33m+\u001b[0m\u001b[0mi\u001b[0m\u001b[1;33m\u001b[0m\u001b[1;33m\u001b[0m\u001b[0m\n",
      "\u001b[1;31mNameError\u001b[0m: name 'numbers' is not defined"
     ]
    }
   ],
   "source": [
    "def calc(*n):\n",
    "    count = 0\n",
    "    tot = 0\n",
    "    for i in numbers:\n",
    "        count = count +1 \n",
    "        tot = tot+i\n",
    "    return count, tot\n",
    "\n",
    "count,sum = calc(1,5,2,6)\n",
    "print(count, sum)"
   ]
  },
  {
   "cell_type": "code",
   "execution_count": 29,
   "metadata": {},
   "outputs": [
    {
     "name": "stdout",
     "output_type": "stream",
     "text": [
      "높은 점수: 100\n",
      "낮은 점수: 86\n"
     ]
    }
   ],
   "source": [
    "def get_max_score(*n):\n",
    "    return max(n)\n",
    "\n",
    "def get_min_score(*n):\n",
    "    return min(n)\n",
    "\n",
    "korean, english, math, science = 100, 86, 81, 100\n",
    "\n",
    "max_score = get_max_score(korean,english,math,science)\n",
    "print('높은 점수:', max_score)\n",
    "\n",
    "min_score = get_min_score(english,science)\n",
    "print('낮은 점수:', min_score)\n",
    "\n"
   ]
  },
  {
   "cell_type": "code",
   "execution_count": 30,
   "metadata": {},
   "outputs": [
    {
     "name": "stdout",
     "output_type": "stream",
     "text": [
      "hello world 5\n",
      "hello world 4\n",
      "hello world 3\n",
      "hello world 2\n",
      "hello world 1\n"
     ]
    }
   ],
   "source": [
    "# 재귀함수 - 함수 내용 안에서 자기 자신을 호출하는 함수\n",
    "# 대신 종료조건이 들어가야 한다는 조건이 붙음\n",
    "# (없으면 무한대로 돌아간다.)\n",
    "def hello(count):\n",
    "    #종료 조건만들기\n",
    "    if (count) ==0:\n",
    "        return\n",
    "    print('hello world', count)\n",
    "    count = count - 1\n",
    "    hello(count)\n",
    "hello(5)\n",
    "# count가 5에서 시작하여 계속 감소하다가 0 되면 정지함."
   ]
  },
  {
   "cell_type": "code",
   "execution_count": 31,
   "metadata": {},
   "outputs": [],
   "source": [
    "##모듈과 클래스"
   ]
  },
  {
   "cell_type": "code",
   "execution_count": 32,
   "metadata": {},
   "outputs": [
    {
     "data": {
      "text/plain": [
       "3.141592653589793"
      ]
     },
     "execution_count": 32,
     "metadata": {},
     "output_type": "execute_result"
    }
   ],
   "source": [
    "import math\n",
    "math.pi"
   ]
  },
  {
   "cell_type": "code",
   "execution_count": 36,
   "metadata": {},
   "outputs": [
    {
     "name": "stdout",
     "output_type": "stream",
     "text": [
      "    January 2021\n",
      "Mo Tu We Th Fr Sa Su\n",
      "             1  2  3\n",
      " 4  5  6  7  8  9 10\n",
      "11 12 13 14 15 16 17\n",
      "18 19 20 21 22 23 24\n",
      "25 26 27 28 29 30 31\n"
     ]
    }
   ],
   "source": [
    "import calendar\n",
    "calendar.prmonth(2021,1)\n",
    "\n",
    "import numpy\n",
    "# 행렬 벡터 연산 수학 라이브러리"
   ]
  },
  {
   "cell_type": "code",
   "execution_count": 41,
   "metadata": {},
   "outputs": [
    {
     "data": {
      "text/plain": [
       "53"
      ]
     },
     "execution_count": 41,
     "metadata": {},
     "output_type": "execute_result"
    }
   ],
   "source": [
    "import random\n",
    "random.randrange(1,100)"
   ]
  },
  {
   "cell_type": "code",
   "execution_count": 50,
   "metadata": {},
   "outputs": [
    {
     "name": "stdout",
     "output_type": "stream",
     "text": [
      "20\n",
      "20\n"
     ]
    },
    {
     "data": {
      "text/plain": [
       "22"
      ]
     },
     "execution_count": 50,
     "metadata": {},
     "output_type": "execute_result"
    }
   ],
   "source": [
    "class amazon:\n",
    "    str = 20\n",
    "    dex = 25\n",
    "    vital = 20\n",
    "    energy = 15\n",
    "    \n",
    "    def attack(self):\n",
    "            return 'jab'\n",
    "  \n",
    "    def exercise(self):\n",
    "            self.str = self.str+2\n",
    "            self.dex = self.dex+2\n",
    "            self.vital = self.vital+2\n",
    "# self가 있는 이유\n",
    "# 객체지향은 각각의 행동을 알아서 가짐\n",
    "# 파라미터로서 self를 넣고\n",
    "# \n",
    "jane = amazon()\n",
    "marry = amazon()\n",
    "print(jane.str)\n",
    "print(marry.vital)\n",
    "\n",
    "marry.exercise()\n",
    "marry.str"
   ]
  },
  {
   "cell_type": "code",
   "execution_count": 59,
   "metadata": {},
   "outputs": [
    {
     "name": "stdout",
     "output_type": "stream",
     "text": [
      "200\n"
     ]
    }
   ],
   "source": [
    "class rectangle:\n",
    "    def __init__ (self,x1,y1,x2,y2):\n",
    "        self.x1 = x1\n",
    "        self.y1 = y1\n",
    "        self.x2 = x2\n",
    "        self.y2 = y2\n",
    "    \n",
    "rect = rectangle(x1 = 20, y1 =20, x2 = 40, y2 = 30)\n",
    "area = abs((rect.y2-rect.y1)*(rect.x2-rect.x1))\n",
    "print(area)"
   ]
  },
  {
   "cell_type": "code",
   "execution_count": 60,
   "metadata": {},
   "outputs": [
    {
     "name": "stdout",
     "output_type": "stream",
     "text": [
      "542.4 210.3 38\n",
      "베기\n"
     ]
    }
   ],
   "source": [
    "class knight:\n",
    "    def __init__(self, health, mana, armor):\n",
    "        self.health = health\n",
    "        self.mana = mana\n",
    "        self.armor = armor\n",
    "    def slash(self):\n",
    "        print('베기')\n",
    "\n",
    "x = knight(health = 542.4, mana = 210.3, armor = 38)\n",
    "print(x.health, x.mana, x.armor)\n",
    "x.slash()"
   ]
  },
  {
   "cell_type": "code",
   "execution_count": 62,
   "metadata": {},
   "outputs": [
    {
     "name": "stdout",
     "output_type": "stream",
     "text": [
      "[100, 2, 3, 100, 2, 3, 100, 2, 3]\n"
     ]
    }
   ],
   "source": [
    "class advancedlist(list):\n",
    "        def replace(self,old,new):\n",
    "            while old in self :\n",
    "                self[self.index(old)] = new\n",
    "\n",
    "\n",
    "x = advancedlist([1,2,3,1,2,3,1,2,3])\n",
    "x.replace(1,100)\n",
    "print(x)"
   ]
  },
  {
   "cell_type": "code",
   "execution_count": 66,
   "metadata": {},
   "outputs": [
    {
     "name": "stdout",
     "output_type": "stream",
     "text": [
      "냉장고 문을 열었어요\n",
      "냉장고 속에 음식이 들어갔습니다.\n",
      "냉장고 속에 음식이 들어갔습니다.\n"
     ]
    },
    {
     "data": {
      "text/plain": [
       "[<__main__.food at 0x11d4d004c70>, <__main__.food at 0x11d4d004040>]"
      ]
     },
     "execution_count": 66,
     "metadata": {},
     "output_type": "execute_result"
    }
   ],
   "source": [
    "class fridge:\n",
    "    def __init__(self):\n",
    "        self.isopen = False\n",
    "        self.foods = []\n",
    "        \n",
    "    def open_f(self):\n",
    "        self.isopen = True\n",
    "        print('냉장고 문을 열었어요')\n",
    "        \n",
    "    def put_f(self, thing):\n",
    "        if self.isopen:\n",
    "            self.foods.append(thing)\n",
    "            print('냉장고 속에 음식이 들어갔습니다.')\n",
    "        else:\n",
    "            print('냉장고 문이 닫혀있어서 못들어갔습니다')\n",
    "            \n",
    "    def close_f(self):\n",
    "        self.ispoen = False\n",
    "        print('냉장고 문을 닫았어요')\n",
    "        \n",
    "class food:\n",
    "    pass\n",
    "\n",
    "\n",
    "f = fridge()\n",
    "apple = food()\n",
    "elephant = food()\n",
    "\n",
    "f.open_f()\n",
    "f.put_f(apple)\n",
    "f.put_f(elephant)\n",
    "f.foods"
   ]
  },
  {
   "cell_type": "code",
   "execution_count": 67,
   "metadata": {},
   "outputs": [
    {
     "name": "stdout",
     "output_type": "stream",
     "text": [
      "2명 생성되었습니다\n"
     ]
    }
   ],
   "source": [
    "class person:\n",
    "    count = 0\n",
    "    def __init__ (self):\n",
    "        person.count +=1\n",
    "        \n",
    "    @classmethod\n",
    "    def print_count(cls):\n",
    "        print('{0}명 생성되었습니다'.format(cls.count))\n",
    "        \n",
    "james = person()\n",
    "maria = person()\n",
    "person.print_count()"
   ]
  },
  {
   "cell_type": "code",
   "execution_count": 73,
   "metadata": {},
   "outputs": [
    {
     "name": "stdout",
     "output_type": "stream",
     "text": [
      "올바른 날짜 형식입니다\n"
     ]
    }
   ],
   "source": [
    "class date:\n",
    "    @staticmethod\n",
    "    def is_date_valid(date_string):\n",
    "        year, month, day = map(int, date_string.split('-'))\n",
    "        return month <=12 and day <= 31\n",
    "    \n",
    "if date.is_date_valid('2020-01-21'):\n",
    "    print('올바른 날짜 형식입니다')\n",
    "else:\n",
    "    print('잘못된 날짜 형식입니다')"
   ]
  },
  {
   "cell_type": "code",
   "execution_count": 76,
   "metadata": {},
   "outputs": [
    {
     "name": "stdout",
     "output_type": "stream",
     "text": [
      "나눌 숫자를 입력하세요: 4\n",
      "x값:  4\n",
      "y값:  2.5\n"
     ]
    }
   ],
   "source": [
    "try:\n",
    "    x = int(input('나눌 숫자를 입력하세요: '))\n",
    "    y = 10/x\n",
    "    print('x값: ', x)\n",
    "    print('y값: ', y)\n",
    "except:\n",
    "    print('예외가 발생하였습니다')\n",
    "    "
   ]
  },
  {
   "cell_type": "code",
   "execution_count": 79,
   "metadata": {},
   "outputs": [
    {
     "name": "stdout",
     "output_type": "stream",
     "text": [
      "파일이없습니다\n"
     ]
    }
   ],
   "source": [
    "try:\n",
    "    file=open('maria.txt','r')\n",
    "except FileNotFoundError:\n",
    "    print('파일이없습니다')\n",
    "else:\n",
    "    s = file.read()\n",
    "    file.close()"
   ]
  },
  {
   "cell_type": "code",
   "execution_count": null,
   "metadata": {},
   "outputs": [],
   "source": []
  }
 ],
 "metadata": {
  "kernelspec": {
   "display_name": "Python 3",
   "language": "python",
   "name": "python3"
  },
  "language_info": {
   "codemirror_mode": {
    "name": "ipython",
    "version": 3
   },
   "file_extension": ".py",
   "mimetype": "text/x-python",
   "name": "python",
   "nbconvert_exporter": "python",
   "pygments_lexer": "ipython3",
   "version": "3.8.5"
  }
 },
 "nbformat": 4,
 "nbformat_minor": 4
}
