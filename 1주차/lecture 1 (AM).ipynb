{
 "cells": [
  {
   "cell_type": "code",
   "execution_count": 1,
   "metadata": {},
   "outputs": [
    {
     "data": {
      "text/plain": [
       "2"
      ]
     },
     "execution_count": 1,
     "metadata": {},
     "output_type": "execute_result"
    }
   ],
   "source": [
    "int(2.7)"
   ]
  },
  {
   "cell_type": "code",
   "execution_count": 2,
   "metadata": {},
   "outputs": [
    {
     "name": "stdout",
     "output_type": "stream",
     "text": [
      "4\n",
      "2.5\n",
      "True\n",
      "False\n",
      "True\n"
     ]
    }
   ],
   "source": [
    "a = int(4.7)\n",
    "b = float(2.5)\n",
    "c = bool(1)\n",
    "d = bool(0)\n",
    "e = bool(2)\n",
    "\n",
    "print(a)\n",
    "print(b)\n",
    "print(c)\n",
    "print(d)\n",
    "print(e)\n"
   ]
  },
  {
   "cell_type": "code",
   "execution_count": 3,
   "metadata": {},
   "outputs": [
    {
     "name": "stdout",
     "output_type": "stream",
     "text": [
      "[1, 2, 3, 4, 5, 6, 7, 8, 9, 10, 11, 12, 13, 14, 15, 16, 17, 18, 19, 20, 21, 22, 23, 24, 25, 26, 27, 28, 29, 30, 31, 32, 33, 34, 35, 36, 37, 38, 39, 40, 41, 42, 43, 44, 45, 46, 47, 48, 49, 50, 51, 52, 53, 54, 55, 56, 57, 58, 59, 60, 61, 62, 63, 64, 65, 66, 67, 68, 69, 70, 71, 72, 73, 74, 75, 76, 77, 78, 79, 80, 81, 82, 83, 84, 85, 86, 87, 88, 89, 90, 91, 92, 93, 94, 95, 96, 97, 98, 99, 100]\n"
     ]
    }
   ],
   "source": [
    "mylist = []\n",
    "for i in range(100):\n",
    "    mylist.append(i+1)\n",
    "\n",
    "print(mylist)"
   ]
  },
  {
   "cell_type": "code",
   "execution_count": 12,
   "metadata": {},
   "outputs": [
    {
     "name": "stdout",
     "output_type": "stream",
     "text": [
      "[100, 200, 300, 400, 500]\n",
      "[100, 200, 300, 400, 500]\n",
      "[10000, 40000, 90000, 160000, 250000]\n"
     ]
    }
   ],
   "source": [
    "mylist1 = [100,200,300,400,500]\n",
    "print(mylist1)\n",
    "\n",
    "mylist2 = mylist1\n",
    "print(mylist2)\n",
    "\n",
    "mylist3 = [i*i for i in mylist2]\n",
    "print(mylist3)"
   ]
  },
  {
   "cell_type": "code",
   "execution_count": null,
   "metadata": {},
   "outputs": [],
   "source": []
  },
  {
   "cell_type": "code",
   "execution_count": 16,
   "metadata": {},
   "outputs": [
    {
     "name": "stdout",
     "output_type": "stream",
     "text": [
      "5 10\n",
      "(5,) (5, 10)\n"
     ]
    }
   ],
   "source": [
    "t = (1,5,10)\n",
    "\n",
    "# 인덱스\n",
    "\n",
    "second = t[1]\n",
    "last = t[-1]\n",
    "print(second, last)\n",
    "\n",
    "# 슬라이스\n",
    "\n",
    "s1 = t[1:2]\n",
    "s2 = t[1:]\n",
    "print(s1,s2)"
   ]
  },
  {
   "cell_type": "code",
   "execution_count": 17,
   "metadata": {},
   "outputs": [
    {
     "name": "stdout",
     "output_type": "stream",
     "text": [
      "(1, 2, 3, 4, 5)\n",
      "(1, 2, 1, 2, 1, 2)\n"
     ]
    }
   ],
   "source": [
    "a = (1,2)\n",
    "b = (3,4,5)\n",
    "c = a+b\n",
    "print(c)\n",
    "\n",
    "c = a*3\n",
    "print(c)"
   ]
  },
  {
   "cell_type": "code",
   "execution_count": 19,
   "metadata": {},
   "outputs": [
    {
     "name": "stdout",
     "output_type": "stream",
     "text": [
      "('john', 'kim')\n",
      "john\n",
      "kim\n"
     ]
    }
   ],
   "source": [
    "name = ('john', 'kim')\n",
    "print(name)\n",
    "\n",
    "firstname, lastname = (\"john\", \"kim\")\n",
    "print(firstname)\n",
    "print(lastname)"
   ]
  },
  {
   "cell_type": "code",
   "execution_count": 23,
   "metadata": {},
   "outputs": [
    {
     "name": "stdout",
     "output_type": "stream",
     "text": [
      "[1, 2, 3, 4]\n",
      "[100, 2, 3, 4]\n",
      "(1, 2, 3, 4)\n"
     ]
    },
    {
     "ename": "TypeError",
     "evalue": "'tuple' object does not support item assignment",
     "output_type": "error",
     "traceback": [
      "\u001b[1;31m---------------------------------------------------------------------------\u001b[0m",
      "\u001b[1;31mTypeError\u001b[0m                                 Traceback (most recent call last)",
      "\u001b[1;32m<ipython-input-23-c07a64f0910d>\u001b[0m in \u001b[0;36m<module>\u001b[1;34m\u001b[0m\n\u001b[0;32m      8\u001b[0m \u001b[0mnumber1\u001b[0m \u001b[1;33m=\u001b[0m \u001b[1;33m(\u001b[0m\u001b[1;36m1\u001b[0m\u001b[1;33m,\u001b[0m\u001b[1;36m2\u001b[0m\u001b[1;33m,\u001b[0m\u001b[1;36m3\u001b[0m\u001b[1;33m,\u001b[0m\u001b[1;36m4\u001b[0m\u001b[1;33m)\u001b[0m\u001b[1;33m\u001b[0m\u001b[1;33m\u001b[0m\u001b[0m\n\u001b[0;32m      9\u001b[0m \u001b[0mprint\u001b[0m\u001b[1;33m(\u001b[0m\u001b[0mnumber1\u001b[0m\u001b[1;33m)\u001b[0m\u001b[1;33m\u001b[0m\u001b[1;33m\u001b[0m\u001b[0m\n\u001b[1;32m---> 10\u001b[1;33m \u001b[0mnumber1\u001b[0m\u001b[1;33m[\u001b[0m\u001b[1;36m0\u001b[0m\u001b[1;33m]\u001b[0m \u001b[1;33m=\u001b[0m \u001b[1;36m100\u001b[0m\u001b[1;33m\u001b[0m\u001b[1;33m\u001b[0m\u001b[0m\n\u001b[0m\u001b[0;32m     11\u001b[0m \u001b[0mprint\u001b[0m\u001b[1;33m(\u001b[0m\u001b[0mnumber1\u001b[0m\u001b[1;33m)\u001b[0m\u001b[1;33m\u001b[0m\u001b[1;33m\u001b[0m\u001b[0m\n",
      "\u001b[1;31mTypeError\u001b[0m: 'tuple' object does not support item assignment"
     ]
    }
   ],
   "source": [
    "# 튜플은 변경이 안된다...\n",
    "number1 = [1,2,3,4]\n",
    "print(number1)\n",
    "number1[0] = 100\n",
    "print(number1)\n",
    "#이건 변경이 되지만\n",
    "\n",
    "number1 = (1,2,3,4)\n",
    "print(number1)\n",
    "number1[0] = 100    #type error 발생하게됨. -> 튜플은 데이터 변경이 불가능\n",
    "print(number1)"
   ]
  },
  {
   "cell_type": "code",
   "execution_count": 24,
   "metadata": {},
   "outputs": [
    {
     "name": "stdout",
     "output_type": "stream",
     "text": [
      "[1, 2, 3, 4]\n",
      "[100, 2, 3, 4]\n"
     ]
    }
   ],
   "source": [
    "# tuple을 list로 바꿔보기\n",
    "\n",
    "number1 = (1,2,3,4)\n",
    "number2 = list(number1)\n",
    "# number2는 튜플형 number1을 리스트로 만든다.\n",
    "print(number2)\n",
    "number2[0] = 100\n",
    "print(number2)"
   ]
  },
  {
   "cell_type": "code",
   "execution_count": 27,
   "metadata": {},
   "outputs": [
    {
     "name": "stdout",
     "output_type": "stream",
     "text": [
      "20\n",
      "24\n"
     ]
    }
   ],
   "source": [
    "dic1 = [('나윤상', 20), ('나수정', 40)]\n",
    "mydict = dict(dic1)\n",
    "\n",
    "print(mydict['나윤상'])\n",
    "\n",
    "dic2 = {\"윤상\" : 15, \"수정스\": 24}\n",
    "thedic = dict(dic2)\n",
    "print(thedic[\"수정스\"])"
   ]
  },
  {
   "cell_type": "code",
   "execution_count": 29,
   "metadata": {},
   "outputs": [
    {
     "name": "stdout",
     "output_type": "stream",
     "text": [
      "{'철수': 90, '민수': 99, '영희': 88}\n",
      "{'철수': 90, '민수': 0, '길동': 96}\n"
     ]
    }
   ],
   "source": [
    "scores = {\"철수\": 90, \"민수\": 99, \"영희\" : 88}\n",
    "print(scores)\n",
    "# dictiiony 수정해보기\n",
    "\n",
    "scores[\"민수\"] = 0\n",
    "scores[\"길동\"] = 96\n",
    "del scores[\"영희\"]\n",
    "# 값을 할당하는건 키워드와 value를 제시하면 된다\n",
    "# 삭제하는 방법은 del을 넣어서 지워버리면 된다.\n",
    "print(scores)"
   ]
  },
  {
   "cell_type": "code",
   "execution_count": 30,
   "metadata": {},
   "outputs": [
    {
     "name": "stdout",
     "output_type": "stream",
     "text": [
      "철수 : 90\n",
      "민수 : 0\n",
      "길동 : 96\n"
     ]
    }
   ],
   "source": [
    "for key in scores:\n",
    "    val = scores[key]\n",
    "    print(\"%s : %d\" % (key, val))"
   ]
  },
  {
   "cell_type": "code",
   "execution_count": 33,
   "metadata": {},
   "outputs": [
    {
     "name": "stdout",
     "output_type": "stream",
     "text": [
      "60\n"
     ]
    }
   ],
   "source": [
    "camile = {\n",
    "    'health' : 575.6,\n",
    "    'health regen' : 1.7,\n",
    "    'mana' : 338.8,\n",
    "    'mana regen' : 1.63,\n",
    "    'melee' : 125,\n",
    "    'attack damage': 60,\n",
    "}\n",
    "print(camile[\"attack damage\"])"
   ]
  },
  {
   "cell_type": "code",
   "execution_count": 40,
   "metadata": {},
   "outputs": [
    {
     "name": "stdout",
     "output_type": "stream",
     "text": [
      "이런 시험점수는 없어요.^^\n"
     ]
    }
   ],
   "source": [
    "score = 102\n",
    "if (score <= 70):\n",
    "    print(\"4등급. 재수강 입니다.^^\")\n",
    "elif (score <=80) and (score > 70):\n",
    "    print(\"3등급. 당신의 학점은 C 입니다.\")\n",
    "elif (score <=90) and (score > 80):\n",
    "    print(\"2등급. 당신의 학점은 B 입니다.\")\n",
    "elif (score <=100) and (score >90):\n",
    "    print(\"1등급. 당신의 학점은 A 입니다.\")\n",
    "else :\n",
    "    print(\"이런 시험점수는 없어요.^^\")"
   ]
  },
  {
   "cell_type": "code",
   "execution_count": 42,
   "metadata": {},
   "outputs": [
    {
     "name": "stdout",
     "output_type": "stream",
     "text": [
      "0\n",
      "1\n",
      "2\n",
      "3\n",
      "4\n",
      "5\n",
      "6\n",
      "7\n",
      "8\n",
      "9\n",
      "10\n"
     ]
    }
   ],
   "source": [
    "i = 0\n",
    "while i <=10:\n",
    "    print(i)\n",
    "    i = i+1"
   ]
  },
  {
   "cell_type": "code",
   "execution_count": 45,
   "metadata": {},
   "outputs": [
    {
     "name": "stdout",
     "output_type": "stream",
     "text": [
      "1   1\n",
      "2   4\n",
      "3   9\n",
      "4   16\n",
      "5   25\n"
     ]
    }
   ],
   "source": [
    "num = 5\n",
    "i = 1\n",
    "\n",
    "while (i*i) <= (num*num):\n",
    "    print(i, \" \", i*i)\n",
    "    i = i+1\n"
   ]
  },
  {
   "cell_type": "code",
   "execution_count": 46,
   "metadata": {},
   "outputs": [
    {
     "name": "stdout",
     "output_type": "stream",
     "text": [
      "11\n"
     ]
    }
   ],
   "source": [
    "sum = 0 \n",
    "for i in range(11):\n",
    "    sum = sum+1\n",
    "print(sum)"
   ]
  },
  {
   "cell_type": "code",
   "execution_count": 48,
   "metadata": {},
   "outputs": [
    {
     "name": "stdout",
     "output_type": "stream",
     "text": [
      "this\n",
      "is\n",
      "a\n",
      "book\n",
      "1!!\n"
     ]
    }
   ],
   "source": [
    "list = [\"this\", \"is\", \"a\", \"book\",\"1!!\"]\n",
    "\n",
    "for s in list:\n",
    "    print(s)"
   ]
  },
  {
   "cell_type": "code",
   "execution_count": 52,
   "metadata": {},
   "outputs": [
    {
     "name": "stdout",
     "output_type": "stream",
     "text": [
      "1 60.0\n",
      "2 36.0\n",
      "3 21.6\n",
      "4 12.96\n",
      "5 7.776\n",
      "6 4.6656\n",
      "7 2.7994\n",
      "8 1.6796\n",
      "9 1.0078\n"
     ]
    }
   ],
   "source": [
    "height = 100\n",
    "bounce = 0\n",
    "\n",
    "# range(a,b): a부터 b-1 까지의 숫자 값을 리턴 +1씩 하면서\n",
    "# round(a,b): a값을 소수점 b자리 만큼 반올림\n",
    "\n",
    "for bounce in range(1,10):\n",
    "    height = height * 0.6\n",
    "    print(bounce, round(height,4))"
   ]
  },
  {
   "cell_type": "code",
   "execution_count": null,
   "metadata": {},
   "outputs": [],
   "source": []
  }
 ],
 "metadata": {
  "kernelspec": {
   "display_name": "Python 3",
   "language": "python",
   "name": "python3"
  },
  "language_info": {
   "codemirror_mode": {
    "name": "ipython",
    "version": 3
   },
   "file_extension": ".py",
   "mimetype": "text/x-python",
   "name": "python",
   "nbconvert_exporter": "python",
   "pygments_lexer": "ipython3",
   "version": "3.8.5"
  }
 },
 "nbformat": 4,
 "nbformat_minor": 4
}
