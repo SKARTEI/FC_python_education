{
 "cells": [
  {
   "cell_type": "code",
   "execution_count": 1,
   "metadata": {},
   "outputs": [],
   "source": [
    "import numpy as np\n",
    "import pandas as pd"
   ]
  },
  {
   "cell_type": "code",
   "execution_count": 2,
   "metadata": {},
   "outputs": [
    {
     "data": {
      "text/plain": [
       "array([ 1,  2,  3,  4,  5,  6,  7,  8,  9, 10])"
      ]
     },
     "execution_count": 2,
     "metadata": {},
     "output_type": "execute_result"
    }
   ],
   "source": [
    "a = np.arange(1,11)\n",
    "a"
   ]
  },
  {
   "cell_type": "code",
   "execution_count": 5,
   "metadata": {},
   "outputs": [
    {
     "data": {
      "text/plain": [
       "array([[[0., 0., 0., 0.],\n",
       "        [0., 0., 0., 0.],\n",
       "        [0., 0., 0., 0.]],\n",
       "\n",
       "       [[0., 0., 0., 0.],\n",
       "        [0., 0., 0., 0.],\n",
       "        [0., 0., 0., 0.]]])"
      ]
     },
     "execution_count": 5,
     "metadata": {},
     "output_type": "execute_result"
    }
   ],
   "source": [
    "a = np.zeros((2,3,4))\n",
    "a"
   ]
  },
  {
   "cell_type": "code",
   "execution_count": 8,
   "metadata": {},
   "outputs": [
    {
     "name": "stdout",
     "output_type": "stream",
     "text": [
      "3\n",
      "[2 2 0 1]\n",
      "[[0.11381639 0.64747093 0.74966713 0.58690178]\n",
      " [0.34796283 0.63645653 0.80879565 0.07723092]\n",
      " [0.15657194 0.13958367 0.12200772 0.04416737]]\n"
     ]
    }
   ],
   "source": [
    "a1 = np.random.randint(3,4)\n",
    "a2 = np.random.choice(3,4)\n",
    "a3 = np.random.rand(3,4)\n",
    "\n",
    "\n",
    "print(a1)\n",
    "print(a2)\n",
    "print(a3)\n"
   ]
  },
  {
   "cell_type": "code",
   "execution_count": 9,
   "metadata": {},
   "outputs": [
    {
     "name": "stdout",
     "output_type": "stream",
     "text": [
      "(2, 5)\n"
     ]
    }
   ],
   "source": [
    "arr = np.array([0,1,2,3,4,5,6,7,8,9])\n",
    "arr = np.reshape(arr,(2,5))\n",
    "print(arr.shape)"
   ]
  },
  {
   "cell_type": "code",
   "execution_count": 12,
   "metadata": {},
   "outputs": [
    {
     "name": "stdout",
     "output_type": "stream",
     "text": [
      "[[0 1 2 3]]\n"
     ]
    }
   ],
   "source": [
    "arr = np.array([\n",
    "    [0,1,2,3],\n",
    "    [4,5,6,7],\n",
    "    [8,9,10,11],\n",
    "    [12,13,14,15]\n",
    "])\n",
    "\n",
    "axis = np.array([True,False,False,False])\n",
    "print(arr[axis])"
   ]
  },
  {
   "cell_type": "code",
   "execution_count": 13,
   "metadata": {},
   "outputs": [
    {
     "name": "stdout",
     "output_type": "stream",
     "text": [
      "      year  GDP rate     GDP\n",
      "2016  2016       2.8  1.637M\n",
      "2017  2017       3.1   1.73M\n",
      "2018  2018       3.0   1.83M\n"
     ]
    }
   ],
   "source": [
    "import pandas as pd\n",
    "\n",
    "data = {\n",
    "    'year': [2016, 2017, 2018],\n",
    "    'GDP rate': [2.8, 3.1, 3.0],\n",
    "    'GDP': ['1.637M', '1.73M', '1.83M']\n",
    "    \n",
    "}\n",
    "\n",
    "df = pd.DataFrame(data, index = data['year'])\n",
    "print(df)"
   ]
  },
  {
   "cell_type": "code",
   "execution_count": null,
   "metadata": {},
   "outputs": [],
   "source": []
  }
 ],
 "metadata": {
  "kernelspec": {
   "display_name": "Python 3",
   "language": "python",
   "name": "python3"
  },
  "language_info": {
   "codemirror_mode": {
    "name": "ipython",
    "version": 3
   },
   "file_extension": ".py",
   "mimetype": "text/x-python",
   "name": "python",
   "nbconvert_exporter": "python",
   "pygments_lexer": "ipython3",
   "version": "3.8.5"
  }
 },
 "nbformat": 4,
 "nbformat_minor": 4
}
