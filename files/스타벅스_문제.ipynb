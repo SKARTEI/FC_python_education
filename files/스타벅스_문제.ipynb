{
 "cells": [
  {
   "cell_type": "markdown",
   "metadata": {},
   "source": [
    "1. 해당 프로그램의 실행에 필요한 모듈을 import 합니다. "
   ]
  },
  {
   "cell_type": "code",
   "execution_count": 1,
   "metadata": {},
   "outputs": [],
   "source": [
    "# Selenium 임포트\n",
    "from selenium import webdriver\n",
    "# Beautiful Soup 임포트\n",
    "from bs4 import BeautifulSoup\n",
    "\n",
    "# csv 파일 생성을 위해 임포트\n",
    "import csv\n",
    "\n",
    "# 생성할 csv 파일 이름\n",
    "csv_filename = 'starbucks.csv'"
   ]
  },
  {
   "cell_type": "markdown",
   "metadata": {},
   "source": [
    "2. csv 파일을 사용하기 위한 코드를 작성합니다"
   ]
  },
  {
   "cell_type": "code",
   "execution_count": 2,
   "metadata": {},
   "outputs": [
    {
     "data": {
      "text/plain": [
       "11"
      ]
     },
     "execution_count": 2,
     "metadata": {},
     "output_type": "execute_result"
    }
   ],
   "source": [
    "#csv 파일을 쓰기 방식으로 열기, 인코딩 형식 지정\n",
    "csv_open = open(csv_filename, \"w+\", encoding='utf-8')\n",
    "csv_writer = csv.writer(csv_open)\n",
    "\n",
    "#csv 파일 열 이름 지정. 쓴 개수만큼 열 생성\n",
    "csv_writer.writerow( ('메뉴', '이미지 주소') )"
   ]
  },
  {
   "cell_type": "markdown",
   "metadata": {},
   "source": [
    "3. 크롬드라이버 설정을 진행합니다."
   ]
  },
  {
   "cell_type": "code",
   "execution_count": 7,
   "metadata": {},
   "outputs": [],
   "source": [
    "# 크롬드라이버가 저장된 경로\n",
    "driver = webdriver.chrome()\n",
    "# 웹사이트의 모든 자원 로드를 기다리기 위해 암묵적으로 5초 대기. 그 전에 로딩이 끝나면 5초가 안 됐어도 다음 코드로 넘어감\n",
    "driver.implicitly_wait(5)"
   ]
  },
  {
   "cell_type": "markdown",
   "metadata": {},
   "source": [
    "4. 크롬드라이버를 사용하여 데이터를 크롤링합니다."
   ]
  },
  {
   "cell_type": "code",
   "execution_count": 8,
   "metadata": {},
   "outputs": [],
   "source": [
    "# 소스를 긁어올 사이트 주소\n",
    "driver.get(\"https://www.starbucks.co.kr/menu/drink_list.do\")\n",
    "htmlsrc = driver.page_source\n",
    "\n",
    "# 사이트에서 긁어온 소스를 html로 만들기 (옵션=html.parser)\n",
    "bs = BeautifulSoup(htmlsrc, \"html.parser\")"
   ]
  },
  {
   "cell_type": "markdown",
   "metadata": {},
   "source": [
    "<a> 태그 중 class 이름이 \"goDrinkView\"인 것 전부 찾기"
   ]
  },
  {
   "cell_type": "code",
   "execution_count": 9,
   "metadata": {},
   "outputs": [],
   "source": [
    "images = bs.find_all(\"a\", {\"class\" : \"goDrinkView\"})"
   ]
  },
  {
   "cell_type": "markdown",
   "metadata": {},
   "source": [
    "5. <image> 태그 속성 중 alt 속성에 (운 좋게도) 메뉴 이름이 있어서 그것을 메뉴 이름 열에 넣고 이미지 소스 주소를 다음 열에 넣습니다.\n",
    "\n"
   ]
  },
  {
   "cell_type": "code",
   "execution_count": 12,
   "metadata": {},
   "outputs": [],
   "source": [
    "for image in images:\n",
    "    img = image.find('img')\n",
    "    csv_writer.writerow( (img['alt'], img['src']) )"
   ]
  },
  {
   "cell_type": "markdown",
   "metadata": {},
   "source": [
    "6. CSV파일과 드라이버를 종료합니다."
   ]
  },
  {
   "cell_type": "code",
   "execution_count": 13,
   "metadata": {},
   "outputs": [],
   "source": [
    "# 열어준 csv 파일 닫기\n",
    "csv_open.close()\n",
    "\n",
    "# 소스 긁어오느라 실행했던 드라이버 종료\n",
    "driver.quit()"
   ]
  },
  {
   "cell_type": "code",
   "execution_count": null,
   "metadata": {},
   "outputs": [],
   "source": []
  }
 ],
 "metadata": {
  "kernelspec": {
   "display_name": "Python 3",
   "language": "python",
   "name": "python3"
  },
  "language_info": {
   "codemirror_mode": {
    "name": "ipython",
    "version": 3
   },
   "file_extension": ".py",
   "mimetype": "text/x-python",
   "name": "python",
   "nbconvert_exporter": "python",
   "pygments_lexer": "ipython3",
   "version": "3.8.5"
  }
 },
 "nbformat": 4,
 "nbformat_minor": 4
}
