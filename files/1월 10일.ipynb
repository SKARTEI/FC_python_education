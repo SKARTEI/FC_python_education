{
 "cells": [
  {
   "cell_type": "markdown",
   "metadata": {},
   "source": [
    "# 코드의 재사용\n",
    "\n",
    "sum len range 같은 매핑"
   ]
  },
  {
   "cell_type": "code",
   "execution_count": 4,
   "metadata": {},
   "outputs": [
    {
     "name": "stdout",
     "output_type": "stream",
     "text": [
      "5\n",
      "16\n"
     ]
    }
   ],
   "source": [
    "# 내장 함수의 예\n",
    "\n",
    "a = [1,2,3,4,6]\n",
    "lengg = len(a)\n",
    "print(lengg)\n",
    "summ = sum(a)\n",
    "print(summ)\n"
   ]
  },
  {
   "cell_type": "markdown",
   "metadata": {},
   "source": [
    "# 함수 정의 하기"
   ]
  },
  {
   "cell_type": "code",
   "execution_count": 5,
   "metadata": {},
   "outputs": [],
   "source": [
    "def adde(x,y):\n",
    "    n = x+y\n",
    "    return n\n",
    "# return이 함수의 출력값 x와 y 입력을 더해서 출력함\n"
   ]
  },
  {
   "cell_type": "code",
   "execution_count": 6,
   "metadata": {},
   "outputs": [
    {
     "name": "stdout",
     "output_type": "stream",
     "text": [
      "9\n"
     ]
    }
   ],
   "source": [
    "a = 8\n",
    "b = 1\n",
    "c = adde(a,b)\n",
    "print(c)"
   ]
  },
  {
   "cell_type": "code",
   "execution_count": 7,
   "metadata": {},
   "outputs": [
    {
     "name": "stdout",
     "output_type": "stream",
     "text": [
      "1@2@3%%"
     ]
    }
   ],
   "source": [
    "# print 함수의 기본 파라미터 알아보기\n",
    "\n",
    "print(1,2,3,sep='@', end = '%%')\n",
    "#sep는 사이에 들어오고 end는 뒤에 붙는거"
   ]
  },
  {
   "cell_type": "code",
   "execution_count": 11,
   "metadata": {},
   "outputs": [
    {
     "name": "stdout",
     "output_type": "stream",
     "text": [
      "<class 'tuple'>\n",
      "(11, 28)\n",
      "11\n",
      "28\n"
     ]
    }
   ],
   "source": [
    "# 다수 리턴 내보내기\n",
    "\n",
    "def addmul(x,y):\n",
    "    s = x+y\n",
    "    m = x*y\n",
    "    return s,m\n",
    "\n",
    "c = addmul(7,4)\n",
    "print(type(c))\n",
    "print(c)\n",
    "\n",
    "a, b = addmul(7,4)\n",
    "print(a)\n",
    "print(b)"
   ]
  },
  {
   "cell_type": "code",
   "execution_count": 12,
   "metadata": {},
   "outputs": [],
   "source": [
    "def test(*x):\n",
    "    print(type(x))\n",
    "# 내부적으로 tuple 로 인식한다.\n"
   ]
  },
  {
   "cell_type": "code",
   "execution_count": 13,
   "metadata": {},
   "outputs": [],
   "source": [
    "def test2(**x):\n",
    "    print(type(x))\n",
    "# dict로 인식함"
   ]
  },
  {
   "cell_type": "code",
   "execution_count": 15,
   "metadata": {},
   "outputs": [
    {
     "name": "stdout",
     "output_type": "stream",
     "text": [
      "오늘 온도: 20도, 강수확률: 40%\n"
     ]
    }
   ],
   "source": [
    "a = '오늘 온도: {}도, 강수확률: {}%'.format(20,40)\n",
    "print(a)\n",
    "# 중괄호는 나중에 값이 대입 될 수 있다.\n",
    "# format 함수를 이용"
   ]
  },
  {
   "cell_type": "code",
   "execution_count": 16,
   "metadata": {},
   "outputs": [
    {
     "name": "stdout",
     "output_type": "stream",
     "text": [
      "<class 'function'>\n",
      "25\n"
     ]
    }
   ],
   "source": [
    "# 람다 함수\n",
    "sqa = lambda x:x**2\n",
    "print(type(sqa))\n",
    "# sqa로 함수 사용 가능\n",
    "\n",
    "c = sqa(5)\n",
    "print(c)\n"
   ]
  },
  {
   "cell_type": "code",
   "execution_count": null,
   "metadata": {},
   "outputs": [],
   "source": []
  }
 ],
 "metadata": {
  "kernelspec": {
   "display_name": "Python 3",
   "language": "python",
   "name": "python3"
  },
  "language_info": {
   "codemirror_mode": {
    "name": "ipython",
    "version": 3
   },
   "file_extension": ".py",
   "mimetype": "text/x-python",
   "name": "python",
   "nbconvert_exporter": "python",
   "pygments_lexer": "ipython3",
   "version": "3.8.5"
  }
 },
 "nbformat": 4,
 "nbformat_minor": 4
}
