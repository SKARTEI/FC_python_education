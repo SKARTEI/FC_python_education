{
 "cells": [
  {
   "cell_type": "code",
   "execution_count": 2,
   "metadata": {},
   "outputs": [
    {
     "name": "stdout",
     "output_type": "stream",
     "text": [
      "<class 'tuple'>\n"
     ]
    },
    {
     "ename": "TypeError",
     "evalue": "'tuple' object does not support item assignment",
     "output_type": "error",
     "traceback": [
      "\u001b[1;31m---------------------------------------------------------------------------\u001b[0m",
      "\u001b[1;31mTypeError\u001b[0m                                 Traceback (most recent call last)",
      "\u001b[1;32m<ipython-input-2-5cec1e0b627c>\u001b[0m in \u001b[0;36m<module>\u001b[1;34m\u001b[0m\n\u001b[0;32m      3\u001b[0m \u001b[0mprint\u001b[0m\u001b[1;33m(\u001b[0m\u001b[0mtype\u001b[0m\u001b[1;33m(\u001b[0m\u001b[0ma\u001b[0m\u001b[1;33m)\u001b[0m\u001b[1;33m)\u001b[0m\u001b[1;33m\u001b[0m\u001b[1;33m\u001b[0m\u001b[0m\n\u001b[0;32m      4\u001b[0m \u001b[1;33m\u001b[0m\u001b[0m\n\u001b[1;32m----> 5\u001b[1;33m \u001b[0ma\u001b[0m\u001b[1;33m[\u001b[0m\u001b[1;36m0\u001b[0m\u001b[1;33m]\u001b[0m  \u001b[1;33m=\u001b[0m \u001b[1;36m0\u001b[0m\u001b[1;33m\u001b[0m\u001b[1;33m\u001b[0m\u001b[0m\n\u001b[0m",
      "\u001b[1;31mTypeError\u001b[0m: 'tuple' object does not support item assignment"
     ]
    }
   ],
   "source": [
    "a = (1,2,3)\n",
    "\n",
    "print(type(a))\n",
    "\n",
    "a[0]  = 0"
   ]
  },
  {
   "cell_type": "code",
   "execution_count": 3,
   "metadata": {},
   "outputs": [
    {
     "name": "stdout",
     "output_type": "stream",
     "text": [
      "1 2 3 4\n"
     ]
    }
   ],
   "source": [
    "a, b, c, d = 1, 2, 3, 4\n",
    "print(a, b, c, d)"
   ]
  },
  {
   "cell_type": "code",
   "execution_count": 7,
   "metadata": {},
   "outputs": [
    {
     "name": "stdout",
     "output_type": "stream",
     "text": [
      "{'a': '1', 'b': '2', 'c': '3'}\n",
      "1\n",
      "1\n"
     ]
    }
   ],
   "source": [
    "a = {'a': '1', 'b': '2','c': '3'}\n",
    "print(a)\n",
    "\n",
    "b = {0 : 1, 2:6, 7:0}\n",
    "print(b[0])\n",
    "print(a['a'])\n",
    "#1대1 대응으로만 가능하다. 추가로 설정하면 그냥 값 수정"
   ]
  },
  {
   "cell_type": "code",
   "execution_count": 8,
   "metadata": {},
   "outputs": [
    {
     "ename": "SyntaxError",
     "evalue": "invalid syntax (<ipython-input-8-0906e5a96b8a>, line 2)",
     "output_type": "error",
     "traceback": [
      "\u001b[1;36m  File \u001b[1;32m\"<ipython-input-8-0906e5a96b8a>\"\u001b[1;36m, line \u001b[1;32m2\u001b[0m\n\u001b[1;33m    b =\u001b[0m\n\u001b[1;37m        ^\u001b[0m\n\u001b[1;31mSyntaxError\u001b[0m\u001b[1;31m:\u001b[0m invalid syntax\n"
     ]
    }
   ],
   "source": [
    "a = {'a': 5, 'b': 2,'c': 3}\n",
    "b = "
   ]
  },
  {
   "cell_type": "code",
   "execution_count": 9,
   "metadata": {},
   "outputs": [
    {
     "name": "stdout",
     "output_type": "stream",
     "text": [
      "{}\n"
     ]
    }
   ],
   "source": [
    "a = {'a': 5, 'b': 2,'c': 3}\n",
    "a.clear()\n",
    "print(a)\n",
    "#소멸 함수"
   ]
  },
  {
   "cell_type": "code",
   "execution_count": 13,
   "metadata": {},
   "outputs": [
    {
     "name": "stdout",
     "output_type": "stream",
     "text": [
      "{1, 3, 4, 5, 6, 7}\n"
     ]
    },
    {
     "data": {
      "text/plain": [
       "set"
      ]
     },
     "execution_count": 13,
     "metadata": {},
     "output_type": "execute_result"
    }
   ],
   "source": [
    "a = {1,1,3,4,5,6,5,6,7}\n",
    "print(a)\n",
    "#print(a[0])\n",
    "#set 집합으로 변환\n",
    "type(a)"
   ]
  },
  {
   "cell_type": "code",
   "execution_count": 14,
   "metadata": {},
   "outputs": [
    {
     "name": "stdout",
     "output_type": "stream",
     "text": [
      "[1, 1, 3, 4, 5, 6, 5, 6, 7]\n",
      "{1, 3, 4, 5, 6, 7}\n"
     ]
    }
   ],
   "source": [
    "a = [1,1,3,4,5,6,5,6,7]\n",
    "print(a)\n",
    "\n",
    "b = set(a)\n",
    "print(b)\n",
    "#set 에서는 중복을 허용하지 않는다"
   ]
  },
  {
   "cell_type": "code",
   "execution_count": 19,
   "metadata": {},
   "outputs": [
    {
     "name": "stdout",
     "output_type": "stream",
     "text": [
      "{1, 2, 3, 4, 6, 456}\n",
      "{3}\n",
      "{1, 2, 4}\n",
      "False\n"
     ]
    }
   ],
   "source": [
    "a = {1, 2,3, 4}\n",
    "b = {456,6,6,3}\n",
    "print(a.union(b))\n",
    "#union은 합집합을 구하는 것\n",
    "print(a.intersection(b))\n",
    "#intersection 교집합\n",
    "print(a.difference(b))\n",
    "# difference 차집합\n",
    "print(a.issubset(b))\n",
    "#issubset 부분집합 판별"
   ]
  },
  {
   "cell_type": "code",
   "execution_count": 22,
   "metadata": {},
   "outputs": [
    {
     "name": "stdout",
     "output_type": "stream",
     "text": [
      "FALSE 이건 if문과 관련되지 않은 코드\n"
     ]
    }
   ],
   "source": [
    "#조건문 활용하기\n",
    "if 4 > 5 : \n",
    "    print('TRUE')\n",
    "    print('여기가 if 문에 종속된 코드')\n",
    "    \n",
    "print('FALSE 이건 if문과 관련되지 않은 코드')\n",
    "# boolean 참과 거짓 을 표현한다는 의미\n",
    "# 따로 논리식 없으면 몇몇 예외사항 제외하고 모두 true"
   ]
  },
  {
   "cell_type": "code",
   "execution_count": 26,
   "metadata": {},
   "outputs": [
    {
     "name": "stdout",
     "output_type": "stream",
     "text": [
      "짝수\n"
     ]
    }
   ],
   "source": [
    "# 짝수인 경우에는 어떻게 하고 \n",
    "# 홀수인 경우에는 다른 처리 하게 만들기\n",
    "a = 10\n",
    "if a % 2 == 0:\n",
    "    print('짝수')\n",
    "else :\n",
    "    print('홀수')"
   ]
  },
  {
   "cell_type": "markdown",
   "metadata": {},
   "source": [
    "if\n",
    "else if 안쓰고요\n",
    "elif\n",
    "elif \n",
    "\n",
    "마지막에 else"
   ]
  },
  {
   "cell_type": "code",
   "execution_count": 27,
   "metadata": {},
   "outputs": [
    {
     "name": "stdout",
     "output_type": "stream",
     "text": [
      "a는 10 b는 8이 아님\n"
     ]
    }
   ],
   "source": [
    "a = 10\n",
    "b = 9 \n",
    "c = 8\n",
    "if a == 10:\n",
    "    if c == 8:\n",
    "        if b == 8:\n",
    "            print ('a 는 10 b는 8')\n",
    "        else :\n",
    "            print ('a는 10 b는 8이 아님')"
   ]
  },
  {
   "cell_type": "code",
   "execution_count": null,
   "metadata": {},
   "outputs": [],
   "source": [
    "a = [1,3,4,5,7,8,43,32,22,56]\n",
    "\n",
    "i = 0\n",
    "while i < len(a):\n",
    "    print(a[i])\n",
    "    i += 1\n",
    "    \n",
    "print('haha')"
   ]
  },
  {
   "cell_type": "code",
   "execution_count": null,
   "metadata": {},
   "outputs": [],
   "source": [
    "a = [1,3,4,5,7,8,43,32,22,56]\n",
    "\n",
    "i = 0\n",
    "while i < len(a):\n",
    "    print(a[i])\n",
    "    i += 1\n",
    "    \n",
    "print('haha')"
   ]
  },
  {
   "cell_type": "code",
   "execution_count": null,
   "metadata": {},
   "outputs": [],
   "source": []
  }
 ],
 "metadata": {
  "kernelspec": {
   "display_name": "Python 3",
   "language": "python",
   "name": "python3"
  },
  "language_info": {
   "codemirror_mode": {
    "name": "ipython",
    "version": 3
   },
   "file_extension": ".py",
   "mimetype": "text/x-python",
   "name": "python",
   "nbconvert_exporter": "python",
   "pygments_lexer": "ipython3",
   "version": "3.8.5"
  }
 },
 "nbformat": 4,
 "nbformat_minor": 4
}
